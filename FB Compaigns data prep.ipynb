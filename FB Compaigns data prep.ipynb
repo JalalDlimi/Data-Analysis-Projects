{
  "nbformat": 4,
  "nbformat_minor": 0,
  "metadata": {
    "colab": {
      "name": "FB",
      "version": "0.3.2",
      "provenance": [],
      "include_colab_link": true
    },
    "kernelspec": {
      "name": "python3",
      "display_name": "Python 3"
    }
  },
  "cells": [
    {
      "cell_type": "markdown",
      "metadata": {
        "id": "view-in-github",
        "colab_type": "text"
      },
      "source": [
        "<a href=\"https://colab.research.google.com/github/JalalDlimi/Data-Analysis-Projects/blob/master/FB%20Compaigns%20data%20prep.ipynb\" target=\"_parent\"><img src=\"https://colab.research.google.com/assets/colab-badge.svg\" alt=\"Open In Colab\"/></a>"
      ]
    },
    {
      "metadata": {
        "id": "TxHttIoe4MSa",
        "colab_type": "code",
        "colab": {}
      },
      "cell_type": "code",
      "source": [
        "from google.colab import auth\n",
        "auth.authenticate_user()"
      ],
      "execution_count": 0,
      "outputs": []
    },
    {
      "metadata": {
        "id": "IIuj-wcOB0Br",
        "colab_type": "code",
        "colab": {}
      },
      "cell_type": "code",
      "source": [
        "import re \n",
        "import pandas as pd\n",
        "import numpy as np\n",
        "import matplotlib as plt\n",
        "from google.colab import files\n"
      ],
      "execution_count": 0,
      "outputs": []
    },
    {
      "metadata": {
        "id": "S2ouwbXw4SRV",
        "colab_type": "code",
        "colab": {}
      },
      "cell_type": "code",
      "source": [
        "from google.cloud import bigquery\n",
        "project_id = 'carmila-revenue' #nom du projet où sont stockés les datasets\n",
        "client = bigquery.Client(project=project_id)"
      ],
      "execution_count": 0,
      "outputs": []
    },
    {
      "metadata": {
        "id": "P1gAxXDo5Mr6",
        "colab_type": "code",
        "colab": {}
      },
      "cell_type": "code",
      "source": [
        "dataset_id2 = '2_digital' #le dataset des pubs fb"
      ],
      "execution_count": 0,
      "outputs": []
    },
    {
      "metadata": {
        "id": "TK0gqMwzB9_D",
        "colab_type": "code",
        "colab": {}
      },
      "cell_type": "code",
      "source": [
        "query_fb = \"\"\"SELECT * FROM `carmila-revenue.2_digital.fb_ad_stats_*` \"\"\""
      ],
      "execution_count": 0,
      "outputs": []
    },
    {
      "metadata": {
        "id": "TyKfTFtuM1s9",
        "colab_type": "code",
        "colab": {}
      },
      "cell_type": "code",
      "source": [
        "fb = client.query(query_fb).to_dataframe()"
      ],
      "execution_count": 0,
      "outputs": []
    },
    {
      "metadata": {
        "id": "RJ3cRaU_C0Q5",
        "colab_type": "code",
        "outputId": "89b5c19d-4999-41db-edbe-039076feafd7",
        "colab": {
          "base_uri": "https://localhost:8080/",
          "height": 204
        }
      },
      "cell_type": "code",
      "source": [
        "fb.head()"
      ],
      "execution_count": 9,
      "outputs": [
        {
          "output_type": "execute_result",
          "data": {
            "text/html": [
              "<div>\n",
              "<style scoped>\n",
              "    .dataframe tbody tr th:only-of-type {\n",
              "        vertical-align: middle;\n",
              "    }\n",
              "\n",
              "    .dataframe tbody tr th {\n",
              "        vertical-align: top;\n",
              "    }\n",
              "\n",
              "    .dataframe thead th {\n",
              "        text-align: right;\n",
              "    }\n",
              "</style>\n",
              "<table border=\"1\" class=\"dataframe\">\n",
              "  <thead>\n",
              "    <tr style=\"text-align: right;\">\n",
              "      <th></th>\n",
              "      <th>date</th>\n",
              "      <th>campaign_id</th>\n",
              "      <th>campaign_name</th>\n",
              "      <th>adset_id</th>\n",
              "      <th>adset_name</th>\n",
              "      <th>ad_id</th>\n",
              "      <th>ad_name</th>\n",
              "      <th>impressions</th>\n",
              "      <th>clicks</th>\n",
              "      <th>spend</th>\n",
              "    </tr>\n",
              "  </thead>\n",
              "  <tbody>\n",
              "    <tr>\n",
              "      <th>0</th>\n",
              "      <td>2018-12-04</td>\n",
              "      <td>6112422216761</td>\n",
              "      <td>20181223-FB-BOOST-EVENT-CC Hérouville - Père Noel</td>\n",
              "      <td>6112422215961</td>\n",
              "      <td>Visiteurs_CRM_Lookalike</td>\n",
              "      <td>6112422215761</td>\n",
              "      <td>VPV - Père Noel</td>\n",
              "      <td>6786</td>\n",
              "      <td>67</td>\n",
              "      <td>29.09</td>\n",
              "    </tr>\n",
              "    <tr>\n",
              "      <th>1</th>\n",
              "      <td>2018-12-04</td>\n",
              "      <td>6112510817761</td>\n",
              "      <td>20181224-FB-BOOST-BOUTIQUE-CC Lescar - Bijoux ...</td>\n",
              "      <td>6112510818161</td>\n",
              "      <td>Visiteurs_CRM_Lookalike</td>\n",
              "      <td>6112510817961</td>\n",
              "      <td>VPV - Bijoux Cailloux</td>\n",
              "      <td>599</td>\n",
              "      <td>4</td>\n",
              "      <td>3.66</td>\n",
              "    </tr>\n",
              "    <tr>\n",
              "      <th>2</th>\n",
              "      <td>2018-12-04</td>\n",
              "      <td>6112510817761</td>\n",
              "      <td>20181224-FB-BOOST-BOUTIQUE-CC Lescar - Bijoux ...</td>\n",
              "      <td>6112510818561</td>\n",
              "      <td>Friends_of_Fans</td>\n",
              "      <td>6112510818961</td>\n",
              "      <td>VPV - Bijoux Cailloux</td>\n",
              "      <td>311</td>\n",
              "      <td>10</td>\n",
              "      <td>3.64</td>\n",
              "    </tr>\n",
              "    <tr>\n",
              "      <th>3</th>\n",
              "      <td>2019-01-13</td>\n",
              "      <td>6115098721361</td>\n",
              "      <td>20190126-FB-OPESPE-SOLDESHIV-CC Cap Saran - 17...</td>\n",
              "      <td>6115098720961</td>\n",
              "      <td>Visiteurs_CRM_Lookalike</td>\n",
              "      <td>6115098721161</td>\n",
              "      <td>VPV - Soldes Hiver</td>\n",
              "      <td>4049</td>\n",
              "      <td>31</td>\n",
              "      <td>10.18</td>\n",
              "    </tr>\n",
              "    <tr>\n",
              "      <th>4</th>\n",
              "      <td>2019-01-13</td>\n",
              "      <td>6115020922561</td>\n",
              "      <td>20190112-FB-OPESPE-SOLDESHIV-CC Chambourcy - 3...</td>\n",
              "      <td>6115020922761</td>\n",
              "      <td>Visiteurs_CRM_Lookalike</td>\n",
              "      <td>6115020922961</td>\n",
              "      <td>VPV - Soldes Chambourcy</td>\n",
              "      <td>4232</td>\n",
              "      <td>35</td>\n",
              "      <td>29.78</td>\n",
              "    </tr>\n",
              "  </tbody>\n",
              "</table>\n",
              "</div>"
            ],
            "text/plain": [
              "         date    campaign_id  \\\n",
              "0  2018-12-04  6112422216761   \n",
              "1  2018-12-04  6112510817761   \n",
              "2  2018-12-04  6112510817761   \n",
              "3  2019-01-13  6115098721361   \n",
              "4  2019-01-13  6115020922561   \n",
              "\n",
              "                                       campaign_name       adset_id  \\\n",
              "0  20181223-FB-BOOST-EVENT-CC Hérouville - Père Noel  6112422215961   \n",
              "1  20181224-FB-BOOST-BOUTIQUE-CC Lescar - Bijoux ...  6112510818161   \n",
              "2  20181224-FB-BOOST-BOUTIQUE-CC Lescar - Bijoux ...  6112510818561   \n",
              "3  20190126-FB-OPESPE-SOLDESHIV-CC Cap Saran - 17...  6115098720961   \n",
              "4  20190112-FB-OPESPE-SOLDESHIV-CC Chambourcy - 3...  6115020922761   \n",
              "\n",
              "                adset_name          ad_id                  ad_name  \\\n",
              "0  Visiteurs_CRM_Lookalike  6112422215761          VPV - Père Noel   \n",
              "1  Visiteurs_CRM_Lookalike  6112510817961    VPV - Bijoux Cailloux   \n",
              "2          Friends_of_Fans  6112510818961    VPV - Bijoux Cailloux   \n",
              "3  Visiteurs_CRM_Lookalike  6115098721161       VPV - Soldes Hiver   \n",
              "4  Visiteurs_CRM_Lookalike  6115020922961  VPV - Soldes Chambourcy   \n",
              "\n",
              "  impressions clicks  spend  \n",
              "0        6786     67  29.09  \n",
              "1         599      4   3.66  \n",
              "2         311     10   3.64  \n",
              "3        4049     31  10.18  \n",
              "4        4232     35  29.78  "
            ]
          },
          "metadata": {
            "tags": []
          },
          "execution_count": 9
        }
      ]
    },
    {
      "metadata": {
        "id": "rAzgDlvuC70w",
        "colab_type": "code",
        "outputId": "8a09799e-106d-4842-92d5-95fb31201ca4",
        "colab": {
          "resources": {
            "http://localhost:8080/nbextensions/google.colab/files.js": {
              "data": "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",
              "ok": true,
              "headers": [
                [
                  "content-type",
                  "application/javascript"
                ]
              ],
              "status": 200,
              "status_text": ""
            }
          },
          "base_uri": "https://localhost:8080/",
          "height": 111
        }
      },
      "cell_type": "code",
      "source": [
        "files.upload()"
      ],
      "execution_count": 10,
      "outputs": [
        {
          "output_type": "display_data",
          "data": {
            "text/html": [
              "\n",
              "     <input type=\"file\" id=\"files-80ac096f-0531-4b70-a0d2-af59feb2be87\" name=\"files[]\" multiple disabled />\n",
              "     <output id=\"result-80ac096f-0531-4b70-a0d2-af59feb2be87\">\n",
              "      Upload widget is only available when the cell has been executed in the\n",
              "      current browser session. Please rerun this cell to enable.\n",
              "      </output>\n",
              "      <script src=\"/nbextensions/google.colab/files.js\"></script> "
            ],
            "text/plain": [
              "<IPython.core.display.HTML object>"
            ]
          },
          "metadata": {
            "tags": []
          }
        },
        {
          "output_type": "stream",
          "text": [
            "Saving nom_code (1).xlsx to nom_code (1).xlsx\n"
          ],
          "name": "stdout"
        },
        {
          "output_type": "execute_result",
          "data": {
            "text/plain": [
              "{'nom_code (1).xlsx': b'PK\\x03\\x04\\x14\\x00\\x08\\x08\\x08\\x00\\xac>MN\\x00\\x00\\x00\\x00\\x00\\x00\\x00\\x00\\x00\\x00\\x00\\x00\\x18\\x00\\x00\\x00xl/drawings/drawing1.xml\\x9d\\xd0QN\\xc30\\x0c\\x06\\xe0\\x13p\\x87*\\xefkZ\\x04hT\\xeb\\xf6Rq\\x028\\x80I\\xdc6Z\\x9dTv\\xc6\\xba\\xdb\\x13\\xd1\\x15$x\\x19}\\xb4,\\x7f\\xfa\\xfd\\xef\\x0e\\x13\\r\\xd9\\x07\\xb2\\xb8\\xe0kU\\xe6\\x85\\xca\\xd0\\x9b`\\x9d\\xefj\\xf5\\xf6\\xfa\\xb2\\xd9\\xaaL\"x\\x0bC\\xf0X\\xab\\x0b\\x8a:\\xec\\xefv\\x93\\xe5\\xea,\\rg\\xe9\\xdeK\\x95\\xc6Z\\xf51\\x8e\\x95\\xd6bz$\\x90<\\x8c\\xe8\\xd3\\xb6\\rL\\x10\\xd3\\xc8\\x9d\\xb6\\x0c\\xe7$\\xd3\\xa0\\xef\\x8b\\xe2I\\xcb\\xc8\\x08Vz\\xc4\\xd8\\xcc\\x1bu\\xf5`\\x85F\\xe0\\xfcr\\x7fS\\x9a\\xd0\\xb6\\xce`\\x13\\xcc\\x89\\xd0\\xc7\\x19a\\x1c \\xa6.\\xa4w\\xa3,\\x9aY\\x91\\xc6\\xf4\\xc0\\xf1\\x1b\\x98\\xfe\\x08\\xe4\\x0c\\x07\\tm\\xccM\\xa0k\\x94\\xc5HB\\xf90\\x0b8\\xfd\\x18\\xe5\\xbf\\x91G\\xfd\\xac\\xb7\\xbf!\\xba\\xe9\\x1d\\x02>\\x9e\\xc6Mr\\xc7T\\xc8\\xbb\\x1b\\\\\\xbc|}\\xb60\\xb6\\xa3\\x15\\xb5X\\x07\\x1d\\x03)\\xbd\\xff\\x04PK\\x07\\x08\\xb7K\\\\\\x9e\\xf0\\x00\\x00\\x00{\\x02\\x00\\x00PK\\x03\\x04\\x14\\x00\\x08\\x08\\x08\\x00\\xac>MN\\x00\\x00\\x00\\x00\\x00\\x00\\x00\\x00\\x00\\x00\\x00\\x00\\x18\\x00\\x00\\x00xl/worksheets/sheet1.xml\\x8d\\x9c\\xddN[Y\\x16\\x84\\x9f`\\xde\\x01\\xf9>\\xf8\\xac\\xbd\\xcf/\\x02Z\\xd3\\xd3jM\\xdf\\xb5Z\\xd33\\xd7n\\xfb\\x10\\xac\\xd8>\\xc86\\x90\\xbc\\xfd\\x18\\x87\\xf6Z\\xd9U%q\\x97\\xd0uV\\xdc|\\xf9\\x04\\x14En\\x7f\\xfa\\xba\\xdd\\\\\\xbd\\x8c\\xfb\\xc3z\\xda\\xdd\\xcd\\xec\\xba\\x9a]\\x8d\\xbb\\xe5\\xb4Z\\xef>\\xdf\\xcd\\xfe\\xfc\\xcf\\xaf\\x9f\\xfa\\xd9\\xd5\\xe1\\xb8\\xd8\\xad\\x16\\x9bi7\\xde\\xcd\\xbe\\x8d\\x87\\xd9O\\xf7\\xff\\xb8}\\x9d\\xf6_\\x0e\\x8f\\xe3x\\xbc:\\x1d\\xd8\\x1d\\xeef\\x8f\\xc7\\xe3\\xd3\\xcd|~X>\\x8e\\xdb\\xc5\\xe1zz\\x1aw\\xa7\\xff\\xf20\\xed\\xb7\\x8b\\xe3\\xe9\\xb7\\xfb\\xcf\\xf3\\xc3\\xd3~\\\\\\xac\\xce\\x0fm7\\xf3TU\\xed|\\xbbX\\xeff\\xdf/\\xdc\\xec?rczxX/\\xc7_\\xa6\\xe5\\xf3v\\xdc\\x1d\\xbf\\x1f\\xd9\\x8f\\x9b\\xc5\\xf1\\xf4\\xf2\\x0f\\x8f\\xeb\\xa7\\xc3\\xdf\\xd7\\xb6_\\xe1\\xdcv\\xbd\\xdcO\\x87\\xe9\\xe1x\\xbd\\x9c\\xb6\\xef\\x97N\\xaf`9\\x1f\\xbf.\\xc7\\xf3\\x0b\\xea\\x7fxA\\xdb\\xe5G^\\xd1v\\xb1\\xff\\xf2\\xfc\\xf4\\xe9t\\xf2\\xe9\\xf4*\\xfeZo\\xd6\\xc7o\\xe7\\xd7u9\\xf3r7{\\xde\\xefn\\xdeo|\\xba\\xbc\\x8c\\xb7gnN\\x7f\\xfe\\xcd\\xcbv\\xf3w\\xf8\\xab\\xd5\\x1f{\\xdd\\xf0\\xce\\x1c\\xe6\\xc3\\x0f\\xaf\\xfeti\\x81\\xff\\x03\\x1f\\xbf\\xb5X^.m?v\\xe6\\xf2n|\\xe7z\\x7f{>\\xf9\\xfb\\xfe\\xfevz>n\\xd6\\xbb\\xf1\\xf7\\xfd\\xd5\\xe1y{z\\x8f}\\xfby\\xdcL\\xafw\\xb3\\xd3\\xdf\\xb6\\xf77\\xfc\\xb1\\xfe\\xfcx|{\\xc3\\xfc\\xfev~y\\xee\\xfc\\x8b\\xff\\xae\\xc7\\xd7C\\xf8\\xf5\\xd5\\xdb\\xdf\\xbd\\xbf\\xa6\\xe9\\xcb\\xdbo~[\\xfd\\xf0P\\xcc\\xfez\\xa6t\\xfa3\\x97\\xcf\\x87\\xe3\\xb4\\xfd\\xf7\\xf8\\xfd\\x8f\\xb0\\xd9\\xd5j|X<o\\x8e\\xff\\x9a6\\xff[\\xaf\\x8e\\x8f\\xa7\\xb7\\xd5\\xd7u\\xbe\\xbc\\xfd\\x8f\\xe9\\xf5\\x12n\\xae\\xbb\\xe6\\xed\\xfc\\xf9\\xe2/\\x8b\\xe3\\xe2\\xfev?\\xbd^\\xed\\xdf\\xee\\xdc\\xdf.\\xdf~\\xf1\\xcf\\xd3\\xc5\\xc3\\xf9\\xee\\xe9\\x81\\xc3\\xe9\\xad/\\xf7\\xd5\\xed\\xfc\\xe5\\xf4\\x92\\x96\\xef\\x89\\x9f1a\\x97\\xc4\\xfct\\xefr4]\\x8e\\xa6\\xf3#)<\\x92\\x8a\\xa3\\x98\\xc8\\xfch\\xbe\\x1c\\xcd\\xf0H]\\x1c\\xc5D\\xc3\\x8f\\xd6\\x97\\xa35<\\xd2\\x16G1\\xd1\\xf1\\xa3\\xcd\\xe5h\\x03\\x8f\\xf4\\xc5QL\\x0c\\xfch{9\\xda\\xc2#V\\x92\"\\x11\\x81\\xaa\\xbb\\x9c\\xed\\xf0\\x99\\x92\\x15\\x89\\x08X\\xfd\\xe5l\\x8f\\xcf\\x94\\xb4HD\\xe0\\x1a.g\\x07|\\xa6\\xe4E\"\\x02\\x98UnA\\x85O\\x95\\xccXFP\\xb3\\xe0\\x97\\xa1\\x0b`\\x18\\xc9\\x08p\\xe6\\x92\\x19\\xb1\\xacD\\xc72\\x82\\x9d\\xb9i\\x86\"\\xa5\\x92\\x1e\\xcb\\x08|\\xe6\\xba\\x19\\xda\\x94J\\x80,\\xa3\\x08\\xbas\\x86J% H2\\x8a\\xa0\\x8bg\\xa8U\\x06\\x82$\\xa3\\x08\\xba{\\x86fe H2\\x8a\\xa0\\xebg(W\\x06\\x82$\\xa3\\x08\\xba\\x81\\x86~e H2\\x82`r\\x07\\x13\\xfa\\x95K\\x82,#\\x08&w0\\xa1_uI\\x90e\\xd4\\xc7\\xb9\\xf0\\x81\\x0e\\xfd\\xaa\\xe1C\\x1d\\xc9\\x08\\x82\\xc9\\x1dL\\xe4\\xc3]I\\x90e\\x04\\xc1\\xe4\\x0e&\\xf4\\xab.\\t\\xb2\\x8c\"\\xe8\\x0e&\\xf4\\xab\\x06\\x82$\\xa3\\x08\\xba\\x83\\t\\xfdj\\x80 \\xc9(\\x82\\xee`B\\xbf\\x1a H2\\x8a\\xa0;\\x98\\xd0\\xaf\\x06\\x08\\x92\\x8c\"\\xe8\\x0e&\\xf4\\xab\\x01\\x82$#\\x08fw0\\xa3_MI\\x90e\\x04\\xc1\\xec\\x0ef\\xf4\\xab-\\t\\xb2\\x8c \\x98\\xdd\\xc1\\x8c~\\xb5%A\\x96Q\\x9fp\\x86\\xcf8\\xd1\\xaf\\x16>\\xe7$\\x19A0\\xbb\\x83\\x99|\\xdeY\\x12d\\x19E\\xd0\\x1d\\xcc\\xe8W\\x0b\\x04IF\\x11t\\x073\\xfa\\xd5\\x01A\\x92Q\\x04\\xdd\\xc1\\x8c~u@\\x90d\\x14Aw0\\xa3_\\x1d\\x10$\\x19E\\xd0\\x1d\\xcc\\xe8W\\x07\\x04IF\\x10\\xac\\xdd\\xc1\\x1a\\xfd\\xeaJ\\x82,#\\x08\\xd6\\xee`\\x8d~\\xf5%A\\x96\\x11\\x04kw\\xb0F\\xbf\\xfa\\x92 \\xcb\\x08\\x82\\xb5;X\\xa3_}I\\x90e\\xd4W~\\xe1K?\\xf4\\xab\\x87/\\xfeHF\\x11t\\x07k\\xf2\\x05 \\x10$\\x19E\\xd0\\x1d\\xac\\xd1\\xaf\\x01\\x08\\x92\\x8c\"\\xe8\\x0e\\xd6\\xe8\\xd7\\x00\\x04IF\\x11t\\x07k\\xf4k\\x00\\x82$\\xa3\\x08\\xba\\x835\\xfa5\\x00A\\x92Q_\\xc0\\xbb\\x83\\r\\xfa\\x05\\xefg\\x96\\xe9\\xc5ew\\xb0A\\xbf\\x86\\xa1\\xbc\\x8c\\x19\\xab*q\\xda%lP0\\xab\\xac\\xbc\\xcdBI\\xdcv\\r\\x1bT\\xcc\\xaa\\\\\\xdef\\xa1Z\\xdcv\\x11\\x1b\\x94\\xcc\\xaa\\xa6\\xbc\\xcdB\\xad\\xb8\\x1d\\xaa\\x18\\xd4\\xcc\\xaa\\xae\\xbc\\xcdB\\n\\xa5\\xcb\\xd8\\xb0J\\x06X\\xb2RF\\xb1t\\x1d\\x1bR\\xba\\x18\\xb0d!\\xc5\\xd2\\x85lH\\xf3b\\xc0\\x92\\x85\\x14KW\\xb2!\\xf5\\x8b\\x01K\\x16\\x12,[\\x97\\xb2%\\x05\\x8c\\x95,iH\\xb0l]\\xcb\\x96(g%K\\x16J\\x82e\\xeb^\\xb6D\\xb9T\\xb2\\xa4!\\xc1\\xb2u/[\\xa2\\\\*Y\\xd2\\x90`\\xd9\\xba\\x97-Q.\\x95,iH\\xb1t/[\\xa2\\\\\\x02\\x96,\\xa4X\\x86\\xa6\\x94(\\x97\\x80%\\te\\xc5\\xd2\\xbdlY\\x19\\n,YH\\xb1t/[\\xa2\\\\\\x06\\x96,\\xa4X\\xba\\x97-Q.\\x03K\\x16\\x12,;\\xf7\\xb2#\\xca\\xe5\\x92%\\r\\t\\x96\\x9d{\\xd9\\x11\\xe5r\\xc9\\x92\\x85j\\xc1\\xb2s/;\\xa2\\\\]\\xb2\\xa4!\\xc1\\xb2s/;\\xa2\\\\]\\xb2\\xa4!\\xc1\\xb2s/;\\xa2\\\\]\\xb2\\xa4!\\xc5\\xd2\\xbd\\xec\\x88r5\\xb0d!\\xc5\\xd2\\xbd\\xec\\x88r5\\xb0$\\xa1F\\xb1\\x0c\\xdf\\xc6 \\xca5\\xc0\\x92\\x85\\x14K\\xf7\\xb2c\\xdf\\xa9\\x00\\x96,\\xa4X\\xba\\x97\\x1dQ\\xae\\x01\\x96,$X\\xf6\\xeeeO\\x94kJ\\x964$X\\xf6\\xeeeO\\x94kJ\\x96,\\xd4\\n\\x96\\xbd{\\xd9\\x13\\xe5\\xda\\x92%\\r\\t\\x96\\xbd{\\xd9\\x13\\xe5\\xda\\x92%\\r\\t\\x96\\xbd{\\xd9\\x13\\xe5\\xda\\x92%\\r)\\x96\\xeeeO\\x94k\\x81%\\x0b)\\x96\\xeeeO\\x94k\\x81%\\tu\\x8a\\xa5{\\xd9\\x13\\xe5:`\\xc9B\\x8ae\\xf8\\x1e#Q\\xae\\x03\\x96,\\xa4X\\xba\\x97=\\xfb6\"\\xb0d!\\xc1rp/\\x07\\xa2\\\\W\\xb2\\xa4!\\xc1rp/\\x07\\xa2\\\\W\\xb2d\\xa1^\\xb0\\x1c\\xdc\\xcb\\x81(\\xd7\\x97,iH\\xb0\\x1c\\xdc\\xcb\\x81(\\xd7\\x97,iH\\xb0\\x1c\\xdc\\xcb\\x81(\\xd7\\x97,iH\\xb1t/\\x07\\xa2\\\\\\x0f,YH\\xb1t/\\x07\\xa2\\\\\\x0f,IhP,\\xdd\\xcb\\x81(7\\x00K\\x16R,\\xdd\\xcb\\x81(7\\x00K\\x16R,\\xc3\\x00\\x80(7\\x00K\\x16\\x12,\\xad\\x8a+\\x00\\xf6-\\xfe\\x92&O\\t\\x9cV\\x85)@E\\xbc\\x83\\xf2\\x87\\xa5\\x92j\\x7f\\xac\\n{\\x80\\n\\xd5K\\xd0\\xff\\xf0\\x94\\x80jU\\x0e\\xe7\\xc9w\\xfc\\xa1\\x02\\xe2)\\xc1\\xd5\\xaa\\xb0\\x0c\\xa8\\xc8\\xb7\\xfd\\xa1\\x05\\xe2)\\x896\\xcc\\x03*\\xf2\\xbd\\x7f(\\x82xJ\\xa2\\r\\x1b\\x81\\n5L\\xd0\\x05\\xd1\\x94*\\x83\\xac\\nC\\x81\\nMLP\\x07\\xf1\\x94D\\x1b\\xd6\\x02\\x15\\xca\\x98\\xa0\\x11\\xe2)\\x896L\\x06*\\xf41A)\\xc4S\\nm\\xdc\\xee\\x90aN\\x82^\\x88\\xa7\\x14\\xda\\x1f\\x06<l\\x9d\\x03hYJuC\\x16W<t\\xc6\\x03hiJ\\xa1\\x8dS\\x1e\\xb6\\xd3\\x81\\x82\\x88\\xa7\\x14\\xda\\xb8\\xe7ac\\x1d\\xe8\\x88xJ\\xa2\\r\\xd6\\xb2\\xc5\\x0e\\xd4D<%\\xd1\\x06k\\xc9l\\'ASDS\\xaa*\\xb28\\xef!\\xdb\\x9d\\x04e\\x11OI\\xb4\\xc1Z2\\xe0I\\xd0\\x17\\xf1\\x94D\\x1b\\xac%+\\x9e\\x04\\x95\\x11O)\\xb4a\\xedcd\\xca\\x93\\xa05\\xe2)\\x856L~\\x8c\\xecy\\x12\\x14G4\\xa5\\x9a#Kq{G|\\x84\\xee\\x88\\xa7\\x14\\xda0\\xfe1\\xb2\\xecIP\\x1f\\xf1\\x94B\\x1b\\x16@F\\xe6=\\t\\x1a$\\x9e\\x92h\\x83\\xb5d\\xe3\\x93\\xa0D\\xe2)\\x896XK\\x86>\\tz$\\x9aRE\\x92\\x85A\\x90\\x91\\xb5O\\x82*\\x89\\xa7$\\xda`-\\x99\\xfc$h\\x93xJ\\xa2\\r\\xd6\\x92\\xddO\\x82B\\x89\\xa7\\x14\\xda\\xb0\\x0f22\\xfeI\\xd0)\\xf1\\x94B\\x1bFBF\\x16@\\tj%\\x9aR\\xbd\\x92\\x85\\xa5\\x90\\x91\\x19P\\x82f\\x89\\xa7\\x14\\xda0\\x172\\xb2\\x05JP.\\xf1\\x94B\\x1b6CF\\x06A\\t\\xfa%\\x9e\\x92h\\x83\\xb5d\\x15\\x94\\xa0b\\xe2)\\x896XK\\xa6A\\tZ&\\x9aR5\\x93\\x85\\t\\x91\\x91}P\\x82\\xa2\\x89\\xa7$\\xda`-\\x19\\t%\\xe8\\x9axJ\\xa2\\r\\xd6\\x92\\xa5P\\x82\\xba\\x89\\xa7\\x14\\xda\\xb0(22\\x17J\\xd08\\xf1\\x94B\\x1bfEF6C\\tJ\\'\\x9aR\\xad\\x93\\x85m\\x91\\x91\\xe1P\\x82\\xde\\x89\\xa7\\x14\\xda002\\xb2\\x1eJP=\\xf1\\x94B[\\xc7\\xc5;\\xf1\\x11\\xda\\'\\x9e\\x92h\\x83\\xb5dG\\x94\\xa0\\x80\\xe2)\\x896XK\\xc6D\\t:(\\x9aR%\\x94\\x85\\xd1\\x91\\x91EQ\\x82\\x1a\\x8a\\xa7$\\xda`-\\x99\\x15%h\\xa2xJ\\xa2\\r\\xd6\\x92mQ\\x822\\x8a\\xa7\\x14\\xda\\xb0A220J\\xd8F\\xd1\\x94B\\x1b\\x86HFVF\\t\\xdb(\\x92\\xca\\xb2\\x8d\\nc$#C\\xa3\\x8cm\\x14M)\\xb4a\\x8fddk\\x94\\xb1\\x8d\\xa2)\\x856L\\x92\\x8c\\xcc\\x8d2\\xb6Q4%\\xd1\\xc6\\x1fVA\\x1f3\\xb6Q4%\\xd1\\x06k\\xc9\\xe8(c\\x1b\\xc5R\\xb2\\x8d\\n\\xdb$#\\xbb\\xa3\\x8cm\\x14MI\\xb4\\xc1Z2=\\xca\\xd8F\\xd1\\x94D\\x1b\\xac%\\xeb\\xa3\\x8cm\\x14M)\\xb4a\\xa4dd\\x80\\x94\\xb1\\x8d\\xa2)\\x856\\xec\\x94\\x8cl\\x902\\xb6Q,%\\xdb\\xa80U22C\\xca\\xd8F\\xd1\\x94B\\x1b\\xd6JF\\x96H\\x19\\xdb(\\x9aRh\\xc3`\\xc9\\xc8\\x18)c\\x1bES\\x12m\\xb0\\x96\\xec\\x912\\xb6Q4%\\xd1\\xc6\\x9f3#>b\\x1b\\xc5R\\xb2\\x8d\\n\\xcb%#\\xab\\xa4\\x8cm\\x14MI\\xb4\\xc1Z2L\\xca\\xd8F\\xd1\\x94D\\x1b\\xac%\\xdb\\xa4\\x8cm\\x14M)\\xb4a\\xc2dd\\x9e\\x94\\xb1\\x8d\\xa2)\\x856\\xac\\x98\\x8c,\\x942\\xb6Q,%\\xdb\\xa80d22R\\xca\\xd8F\\xd1\\x94B\\x1b\\xb6LFvJ\\x19\\xdb(\\x9aRh\\xc3\\x9c\\xc9\\xc8T)c\\x1bES\\x12m\\xb0\\x96\\xac\\x952\\xb6Q4%\\xd1\\x06k\\xc9`)c\\x1b\\xc5R\\xb2\\x8d\\xea\\xe2\\x8f\\x88\\x12\\x1f\\xb1\\x8d\\xa2)\\x896XKfK\\x19\\xdb(\\x9a\\x92h\\x83\\xb5d\\xb9\\x94\\xb1\\x8d\\xa2)\\x856\\x0c\\x9c\\x8c\\x8c\\x972\\xb6Q4\\xa5\\xd0\\x86\\x8d\\x93\\x91\\xfdR\\xc66\\x8a\\xa5d\\x1b\\x15fNF&L\\x19\\xdb(\\x9aRh\\xc3\\xd2\\xc9\\xc8\\x8a)c\\x1bES\\nm\\x18;\\x19\\x192el\\xa3hJ\\xa2\\r\\xd6\\x92-S\\xc66\\x8a\\xa6$\\xda`-\\x993el\\xa3XJ\\xb6Qa\\xf5dd\\xd1\\x94\\xb1\\x8d\\xa2)\\x896\\xfet7\\xf1\\x11\\xdb(\\x9a\\x92h\\x83\\xb5d\\xd7\\x94\\xb1\\x8d\\xa2)\\x856\\xcc\\x9f\\x8cL\\x9b2\\xb6Q4\\xa5\\xd0\\x86\\x05\\x94\\x91uS\\xc66\\x8a\\xa5d\\x1b\\x15FPF\\x06N\\x19\\xdb(\\x9aRh\\xc3\\x0e\\xca\\xc8\\xc6)c\\x1bES\\nm\\x98B\\x19\\x999el\\xa3hJ\\xa2\\r\\xd6\\x92\\xa5S\\xc66\\x8a\\xa6$\\xda`-\\x19;el\\xa3X\\n\\xda\\xa8y\\xf8GqV\\xfb\\xc5\\xebz\\xf7\\xf9j\\x7f\\xb3^\\xdd\\xcd\\xf6\\xbf\\xad\\xec\\xfc\\x8f\\xf2\\\\\\xfe\\x99\\xa8\\xfb\\xff\\x03PK\\x07\\x08\\xf4\\xa7\\xb5\\xacu\\n\\x00\\x00jJ\\x00\\x00PK\\x03\\x04\\x14\\x00\\x08\\x08\\x08\\x00\\xac>MN\\x00\\x00\\x00\\x00\\x00\\x00\\x00\\x00\\x00\\x00\\x00\\x00#\\x00\\x00\\x00xl/worksheets/_rels/sheet1.xml.rels\\x8d\\xcfK\\n\\xc20\\x10\\x06\\xe0\\x13x\\x870{\\x93\\xd6\\x85\\x884\\xedF\\x84n\\xa5\\x1e`H\\xa6\\x0fl\\x1e$\\xf1\\xd1\\xdb\\x9b\\x8d\\xa2\\xe0\\xc2\\xe5\\xcc\\xcf|\\xc3_5\\x0f3\\xb3\\x1b\\x8589+\\xa1\\xe4\\x050\\xb2\\xca\\xe9\\xc9\\x0e\\x12\\xce\\xddq\\xbd\\x03\\x16\\x13Z\\x8d\\xb3\\xb3$a\\xa1\\x08M\\xbd\\xaaN4c\\xca7q\\x9c|d\\x19\\xb1Q\\xc2\\x98\\x92\\xdf\\x0b\\x11\\xd5H\\x06#w\\x9elNz\\x17\\x0c\\xa6<\\x86AxT\\x17\\x1cHl\\x8ab+\\xc2\\xa7\\x01\\xf5\\x97\\xc9Z-!\\xb4\\xba\\x04\\xd6-\\x9e\\xfe\\xb1]\\xdfO\\x8a\\x0eN]\\r\\xd9\\xf4\\xe3\\x85\\xd0\\x01\\xef\\xb9X&1\\x0c\\x94$p\\xfe\\xda\\xbd\\xc3\\x92g\\x16D]\\x89\\xaf\\x8a\\xf5\\x13PK\\x07\\x08\\xad\\xa8\\xebM\\xb3\\x00\\x00\\x00*\\x01\\x00\\x00PK\\x03\\x04\\x14\\x00\\x08\\x08\\x08\\x00\\xac>MN\\x00\\x00\\x00\\x00\\x00\\x00\\x00\\x00\\x00\\x00\\x00\\x00\\x14\\x00\\x00\\x00xl/sharedStrings.xml}Z\\xdbr\\xdb8\\x12\\xfd\\x82\\xfd\\x07\\x96^\\xe6)c^|\\x9d\\xb2=\\x05R\\x10\\x05\\x07$\\x18\\xf0\\xb2\\x91_f\\\\\\x89v\\xe2\\xaaX\\xceF\\xca\\xd6\\xee\\xdfO\\x83\\x92\\xed\\xac\\xcf\\xa1\\x9f\\xe2P\\x04\\x89\\xee>}\\xfat\\x83\\x97\\xbf\\xff\\xf7\\xe1k\\xf4\\x9f\\xf5\\xf7\\xed\\xfd\\xe3\\xe6j\\x96\\xfc\\x1a\\xcf\\xa2\\xf5\\xe6\\xd3\\xe3\\xe7\\xfb\\xcd_W\\xb3\\xbe[\\xbc;\\x9fE\\xdb\\xdd\\xdd\\xe6\\xf3\\xdd\\xd7\\xc7\\xcd\\xfaj\\xf6\\xbf\\xf5v\\xf6\\xfb\\xf5?.\\xb7\\xdb]$K7\\xdb\\xab\\xd9\\x97\\xdd\\xee\\xdboGG\\xdbO_\\xd6\\x0fw\\xdb_\\x1f\\xbf\\xad7\\xf2\\xcb\\xbf\\x1e\\xbf?\\xdc\\xed\\xe4\\xbf\\xdf\\xff:\\xda~\\xfb\\xbe\\xbe\\xfb\\xbc\\xfd\\xb2^\\xef\\x1e\\xbe\\x1e\\xa5q|z\\xf4pw\\xbf\\x99E\\x9f\\x1e\\x7flvW\\xb3\\xec\"\\x9dE?6\\xf7\\xff\\xfe\\xb1.\\x9e\\xae$\\xb3\\xeb\\xcb\\xed\\xfd\\xf5\\xe5\\xee\\xbav\\xd5\\x1f\\xbanu\\x95[}y\\xb4\\xbb\\xbe<\\n\\xd7\\xf7\\xbf\\x15n\\xae\\x9f\\x7f\\xfc\\xc3T\\x95{}\\xc7\\xdc\\xab\\xb27e\\xad\\xea\\xd7\\xbf,\\xf2,\\xb9x}q0\\xd6\\xea\\xde\\xe7\\xaa\\xaeu\\xb4\\\\5\\xda\\xe3\\xb2$9{}\\xb1\\x95=\\xeco\\x8f\\x06\\xd7\\xdb\\x8f\\xe4]\\'\\x19,\\xea\\xa2\\x1b\\xad\\xeah\\xae\\xa3A\\xcfUK\\xde\\x14\\x1f\\xbf\\xbeX\\xebA\\xfb6\\xaa\\x94\\xbf]\\xe1\\x82\\xf8\\x0c\\x16\\xb4z\\xf0\\xcc\\xf8\\xf8\\xe2\\xfc\\xf5E\\'7\\x96\\xe0\\xe3E.\\x11{}\\xb1ru\\x17\\x89\\x01j\\xca\\xb5\\x19\\xf8(\\xd7\\xbex\\x1f\\xb5\\xbd\\x8f*q\\xd3\\x84o\\xb3\\x18\\xd6\\xa9\\xca<{\\x97-H__\\\\j\\xef\\xfa1\\x90a\\x87\\x85U\\x86\\xac\\x8b\\x8fO\\xc1\\xb5\\xa6\\xd2\\xadlp\\xce\\xfc\\n\\xceR\\x83\\x98\\xee\\x98c\\x13\\xf0\\x96\\xb8\\xa8\\xd3\\xbd\\xb1b\\xb9\\xea\\t8\\xd4\\xdc`\\xd8\\xca\\x9a\\x048ED4z\\xe5\\xf5Rb\\'8z\\x17\\xe5j\\xe5\\x04\\xbb\\xb0\\xb2)\\x16\\xb7\\x90=\\xbam]\\x1d\\tB\\xc4\\x14\\x1d\\x15\\xba\\xee\\xbc\\xfc\\xe3*\\tPa\\x94e\\xa0I\\x18\\x12|0\\x8e\\xdc}\\n^\\x1bq#\\x1b\\x15\\xfc\\xb6\\x0c7)\\xa6\\x895\\xb9\\xeb=1I@\\x06\\xbb\\x91\\x80\\x7f\\xe8\\xc5\\x0eSG\\xba\\x8eV\\x83\\xb6\\xa6\\xd64\\xb3 \\xfc\\x9d\\xa0\\xbf\\r\\xab\\x1a\\xef\\x06]\\x17\\xec\\x85\\'\\xb0J\\\\\\x15R\\xa0`\\xd6C\\xa8\\x8a\\xa5\\xea\\x04\\x01\\xb5\\xee\\x17\\x91\\x1d\\x93\\xb83e\\xcf\\xf6\\x17\\xa7\\xe0:1\\xadR\\xd6M&\\xc21\\x90\\x992\\x1f\\xdf\\xb6\\'\\x8e\\xc1\\x81\\xf2\\xecf\\xcc\\xe9}\\xe2(\\xb2\\xe8\\x1cB\\xa4eU\\xad\\x08\\\\\\xb3\\x14r\\xc1\\xfeiZ\\xc9\\xcc\\xf9\\x9f*\\x17W\\xb0\\xc4\\x04\\x06XH\\x10\\xdb\\x919Zm\\x18\\x10\\xe2c\\xb0\\xa3\\xf4}\\xb1\\xd4]$\\xaf\\x1a\\x94Um\\xcb\\xc2\\x99B\\x84\\x96\\xeaV\\xe7B\\x1f\\xc5{v\\xfb\\t\\x81\\xf3\\\\\\xef\\xa9fI^0\\xbf\\x80\\x98\\x1c  \\xaf\\xf88\\x19\\xc9\\x04\\x1c\\x1c\\xd2F\\xa2\\xb2\\x12sZIP_\\xe9\\xf0N\\x82\\x9b,\\xa3%\\xcd\\x84\\x9a!P\\xc8\\xe5\\x0f\\xb2\\xcf$!\\xb5\\xa0\\x1a\\xd9\\x81\\x01\\r\\x18\\xd7J,Y\\xe1\\x88O \\xfc\\x12\\x94\\xb0\\xf3i\\xdb\\xc1\\xc7\\xc2\\x9d&\\x1f\\x89\\x99\\xae\\xd0\\x88\\xe1N\\xf9\\xda\\x11\\xe7\\xa4\\'\\xf0\\xf0gf\\x0e{\\x9a`g\\x83\\x99\\xb5/\\x15\\x136\\xc4gX\\xc3\\xa4\\xaeJ\\x04J\\xa1\\x98\\xb9d1\\x071V2\\xab\"\\xc1K\\xa3\\x0f\\xa5\\xcc\\xf6\\x84f\\xb2\\x148)$\\x96W!g\\x1aFL\\xea\\x03p\\xb5\\r\\x8c<]dcde\\xd9\\x97\\r\\xb5#$\\xa5rR=x\\xddL!8\\x82\\xb6\\x0b@E\\xae\\xfcH\\xda\\xac\\x9a\\xc2\\x13\\xac`S\\xf2\\x81m\\x13\\x02%\\x1e\\xf4N07ntE\\xcb5\\xe1\\xcd\\xba\\x14\\x11\\xf7\\xc49\\x15\\xf5H\\x0cP\\xb2\\xbf,\\xd5>A\\xbdkyn\\x82\\xdd\\x0b\\xa9l\"o\\xd8\\xcd)\\xa0\\xc1kSI\\xf6OQ-\\n\\x1a\\xd5\\xdb\\xda\\x85-\\xdd\\x06\\x0e\\x94\\x12 B\\x8aV\\xc3\\xec\\x04\\xf2\\xbf4\\x83\\xf3\\xac0\\x1d\\x03\\x14$\\xf7)\\x17\\xc5\\t\\x98\\xd0\\n\\x15\\x9bV\\x1f`\\xc3t\\x8a(\\x1c\\x16\\xc4\\xc2\\xb8Nu\\x93\\xac\\x91b\\xc6uK\\xd3\\xbe\\x13\\x9cL\\x83:\\x06\\xa3;\\xe7\\x8b\\x95\\xf0\\xab\\xe4[)\\xbeb\\xd0\\x85\\xb0\\xcfu\\xad(p3\\xb0\\xbe\\x13T\\xb9^\\xccoz\\xdf0\\xf5\\x93 \\xd8\\x8b\\xd1c\\xb2\\'\\x915\\x9c\\xf2c\\xecb\\xfa[\\x1ee\\xf0R\\xb1tV\\x93L\\xcaH\\x8b#b\\xbf\\x9e\\x8b>\\x0c\\x08\\x97\\x1e$\\x10\\x1a\\xd3U\\x80\\xf1Fy1@\\xf5\\xdd\\x84H<\\x07?IV\\xc8\\xd3\\xa9\\t\\xa7\\xe0\\xff\\xd6\\xad(k\\xc7X{\\x95\\xd44a\\x99\\x89G\\xa3\\xb2\\x96\\xb29\\xd0\\xd0\\xa2\\x0c<\\xa8\\x1a5W\\x15K|\\xc8\\x19\\x11d\\xa6m\\x8df;O\\xb0\\x06v\\xa3\\x02^\\x04\\x0fb\\x13,:\\x83\\xe8Ra\\xc8\\xbd\\xbc\\x9f\\x82\\xff)\\xac)\\x94H\\x84\\xc2u:(t\\xd1\\xb4L*d\\xd8\\xddH)\\xa8\\x9a\\x03W**\\xd4cTN\\xadh\\xdf\\xa76\\x8d\\x05\\x8fH\\xad\\x91\\x92\\x99!\\x840\\xa8pI\\xe1\\xc6\\xc6\\xf9\\xb1\\x1d\\x91\\x0e\\x83)\\xf8s\\xdcv\\x17\\xe5\\xde\\x14\\xc2`\\x92\\xc8\\xd1\\xc2y\\x9a=(a+\\xd5\\xe7\\xbag\\x1a)\\xcb\\xe0%\\x87\\xda\\x1a\\x82\\x11\\\\\\xabJ\\xeeS\\xc8\\x9bQ\\xcc\\xb4Q(\\xff7\\xce\\xb0\\xe8\\xc5g@0C\\xa0\\xe1i=\\x86%ud\\xb1\\xfa\\xa0e\\x06\\xc5\\x06$H\\xe1\\x1fzSM\\xb4-\\\\\\x93\\xed\\xcd\\x90\\x0cd-\\xc2\\x19SJ{\\x19>\\xef%\\x98\\x86\\x16T\\xda\\x8c\\n\\x19\\xb0.$\\xcb\\xe0n\\xef\\x84=\\xb0\\xf2\\xaa\\xbc\\xb9\\x01\\xecH\\x9d\\xb3\\xaa\\x16\\xdd\\xc1Th\\x8c-\\xaen\\x0b\\xe5\\xa3\\x92pG\\x82an\\x04G\\xdd\\x98nJX\\x98\\xa5Dv\\xccZOo\\x0f\\xadJ\\xa5o\\'H0F1\\xf9\\xd2\\x10J\\xba\\neY\\xcb\\x9b\\x02\"\\x0bT?(\\x16\\x8a\\x14\\xdb\\x8d}\\xe5\\xcd\\xd5\\n\\xf0\\xf9>?F8\\x1d\\xf4\\xb4dc\\x1b*\\x11+\\xee\\xd8C)\\xdf\\x8emS4\\xba\\xc0[:\\x15;\\x05w\\x8f>\\x93\\x96}\\xd0o\\r.V\\xb70\\xc2)\\x83\\xbfD\\x1bLp\\\\\\x89\\xec\\x12\\xee\\x94V\\x8a\\x95\\x04\"\\xf2e\\x1f\\x85\\x1b9B\\x14\\x9e\\xee)\\x8f&\\x00\\x84\\xb9\\xe4\\xad\\xb8z\\xaa* \\x1b\\xbd\\xf8m\\x9f\\xf2\\xd6t\\x12-6\\x1d\\xcaR\\x04\\x81\\x14\\xaer\\xec<\\x05o\\xed\\xe4H5F\\xfb\\x16\\xba\\x10\\xee\\x9bV|\\xd8\\xf5-\\x8d\\xdb\\xfb:\\x12p\\x18\\xd6*\\x9d`ZX\\xb5\\x1a\\xc9\\\\\\xd6M;\\x05\\x0b\\x87\\x19\\xfc\\xeae\"1\\xb9\\xf0\\x18\\x80n%\\x97&\\x92/GZ;\\xa8\\xbfJ\\xc4\\xb8aCe\\xd4\\x8b\\xad\\x96\\xf2\\x9d\\xcb2O+\\xda\\x05\\x91\\x80\\xa1\\x12s2\\xc0I\\x8c\\xee\\x99\\xeaK\\xb1\\x1b\\x1a\\xb9\\xd5\\x1a\\x01Od\\xd5\\xa0X\\x8e\\xbas\\x08\\xba\\xee$\\xe6ot\\xd6\\xc8\\xca\\xcfi0v8\\xb4\\x85Lp\\x9e\\x12\\xb6\\xc4\\xb4\\xe8\\tjQ?\\xf2\\xf8D\\x0e\\xa7\\xd8C\\xfc4\\x12b|\\x9eed\\xee\\x1cT\\xc8\\xe40\\x01\\xd5\\x8d8H*#\\x8b\\x18\\x02|/X4\\x03C\\x82\\x93\\x93Po\\x03e\\xb1\\xe6\\xfa\\x94\\xcd\\x00\\xaa\\\\\\xfb\\xc0\\xdbmK\\x0bQ\\x8c\\x8c\\x10$\\xd7\\xa1|\\x95\\xca\\xd3Y\\xb5\\x08/\\xd4\\xa6\\xaf\\xe7\\r\\xb5\\xf3t\\xe0\\x80\\xb3\\x05\\x01\\xf7\\xb4{\\xb1\\x14\\x05\\xd0\\xb2\\xfe\\x1a\\xfb\\xb9\\xc1\\x88\\x84\\xe5MY\\x82M\\x99nLMA\\x87G%ssCG\\x15\\xd8G\\x88e\\x8d\\xd0\\x89\\x0f\\xb5i\\x9c\\x0c6\\xb4\\xf1cs\\xf2\\xc2\\xea\\xd0\\x0eEaDb\\x86\\x89\\xc1 \\xce\\xa4\\xf6S\\x08I4iHi\\xdfu\\x8e3O\\xaf\\x83\\x14z\\t\\x1e3\\x8d\\xb5\\x15aR\\x1a\\t\\xaf\\x8b\\x81,\"X\\xdc\\x82;\\x9c\\x9d\\x1e\\xdb$HTB8V7=K\\'\\x85\\xf4\\xea\\xddx2X\\xa9\\xdc\\xd2\\xd3\\x19\\x14k\\xc2\\x83\\xa2c\\xbbp\\xac\\x92\\x8f\\x7fL!\\xf1\\x1c\\xac\\t\\n\\xaaPT\\xc8gx~\\xf1O\\xd5JH\\x96\\xb40c\\xee6J\\x04\\xb9\\xb8j\\xea\\x8c\\x13\\xebk\\x11\\x88\\xed\\x10C\\xdf\\xb1qw\\x86\\xa2\\xab\\xf4\\xbav\\xb9p\\xa1 \\xc0L%K\\x8crU\\x92\\xd0\\x95\\xa1\\t\\x10-\\xdfN\\x0c\\x0ex\\x9b\\xbc\\xa7\\xde7A\\xcd\\xe6Ru\\xcd\\xbb\\x06\\xac\\x08Ntt\\x98\\x956VI\\x1f8\\xffEy\\xda:\\x82\\xff\\xc4x#\\xad\\xd3\\x1b\\xbd\\xd61rW\\x90O|\\xe8\\x03\\xa4a\\x9d\\xf0|==#\\xcb\\xc0\\xc9\\xa3\\xabnz\\xb3`\\x88\\x81\\xbd\\x84\\t\\x8e\\xf8\\x948\\xf4F1~\\xd1\\x12\\xfbaR\\x1a\\xa5X|\\xc6r\"\\x06\\x174\\xd7!\\x0e\\x02\\xf6\\xf1L\\x849\\x1f\\x9c3\\x88\\x82\\xef:\\n\\x06p\\x8b.z\\xcb\\xb2;\\xc6\\xd2]\\xf6\\x82\\xb0I\\x97\\xa7\\x98\\xa4O\\x87\\x19\\x933I\\x1cd\\xf6V\\xba\\xce\\xfd\\xbc\\x81w\\xb61\\xf6G\\xcfiW\\xe9\\x15\\xefs\\xb0\\xedn;E\\xe7+\\t\\xee\\xa9\\x0cs\\xe4\\xa7s%\\xf6p\\xd2\\x9f\\x8b\\xf7\\xa9b\\x01\\x18\\xcc]\\xaf\\xcc\\xc83\\x0b\\xcb\\x1f\\x8fHn\\xbb \\xfa\\xc3\\x9e\\xf4\\xb0/\\x85\\xdcU\\t\\xea5i%\\xe9\\x084\\xc6y\\xa0\\x1f\\xf1\\x19\\x92\\xe6\\r\\x16\\xc7Izo\\xea2\\xb42\\xa3\\xe4\\xf1B\\x1alc\\xa8[^\\xfa\\xae<\\xa8\\xa4a\\xe2\\xe8\\xf3\\x14\\x1c\\x98\\xf3,\\xcdH\\x1b\\xdd\\x17\\xcb\\xfd\\x91E\\xc5\\x8f\\xc93R/e/\\xa1U\\xf7\\x8e\\xe7\\x1eb\\xde\\x86\\x0f\\nX\\xe8\\xc9\\x14\\xe0\\xffGK\\x91(7\\xb8\\xa7D\\xe3\\xa4 \\xf1O\\\\\\xf0\\xf3\\x990\\xbb\\xb3\\x12\\x10\\xd7v\\xbc:\\xc4g`\\xc0 98\\x9e\\xa4\\x8f\\x9f\\x13\\x90<\\xc7\\x99\\xe8O\\x1f\\x04U*\\xccL\\x18\\xc2.\\xe0M?}\\x12d{\\xf8^#\\x9c`\\x82EUo\\x97\\xe1P\\x81Y\\xc2?D\\x19\\xe7&K\\xeds\\xcb\\x0f.\\xceP\\xe8?\\x97\\xfe0\\xa8\\xea\\xe9\\x81\\x01\\x04S\\x0f\\x9e\\x0bD<\\xa2\\x0e8d\\xc6\\xd2\\xcf\\x8el_0q\\x9c\\xfeLSG\\xdb\\xed\\xee\\xfaoPK\\x07\\x08\\xf6\\xb3+\\x1c:\\t\\x00\\x00\\xdd&\\x00\\x00PK\\x03\\x04\\x14\\x00\\x08\\x08\\x08\\x00\\xac>MN\\x00\\x00\\x00\\x00\\x00\\x00\\x00\\x00\\x00\\x00\\x00\\x00\\r\\x00\\x00\\x00xl/styles.xml\\xc5T\\xdbn\\xd40\\x10\\xfd\\x02\\xfe\\xc1\\xf2{\\xd7\\xbb-B\\xb4JR\\xf5%\\x88\\x17@\\xea\"\\xf1\\xeau\\xec\\x8dU_\\x82=)\\t_\\xcf8N\\xd8\\xac\\x16\\x89\\n\\t5\\x0f\\x89\\xe7\\xe2s\\x8e=3)\\xee\\x07k\\xc8\\xb3\\x0cQ{W\\xd2\\xddfK\\x89t\\xc27\\xda\\x1dK\\xfau__\\xbd\\xa7$\\x02w\\r7\\xde\\xc9\\x92\\x8e2\\xd2\\xfb\\xeaM\\x11a4\\xf2\\xb1\\x95\\x12\\x08\"\\xb8X\\xd2\\x16\\xa0\\xbbc,\\x8aVZ\\x1e7\\xbe\\x93\\x0e#\\xca\\x07\\xcb\\x01\\xcdpd\\xb1\\x0b\\x9271m\\xb2\\x86]o\\xb7\\xef\\x98\\xe5\\xda\\xd1\\x8cp7\\xec\\xderq\\x81c\\xb5\\x08>z\\x05\\x1b\\xe1-\\xf3Ji!/\\x91n\\xd9-\\xe3bA\\xb2\\x970\\x7f\\x90cyx\\xea\\xbb+\\x84\\xed8\\xe8\\x836\\x1a\\xc6I\\x15\\xad\\n\\xe5\\x1dD\"|\\xef\\xa0\\xa4\\xd7\\xb3\\xa3*\\xe2O\\xf2\\xcc\\r\\xde\\xd3\\x16/\\x8aU\\x85\\xf0\\xc6\\x07\\x12\\x8e\\x87\\x92\\xd6\\xf5vz\\x92\\xdbq+s\\xe2C\\xd0\\xdc$\\x17\\xcb\\x00\\xe9\\xbdX\\x11Mm\\xcc9\\r:\\xaa\\x02\\xf5\\x80\\x0c\\xaeF\\x83\\xcc\\xeb\\xfd\\xd8\\xe1\\xed;\\xacAF\\x9b\\xf2\\xfe\\x92m\\xf4\\xb1\\x85\\x0f\\x81\\x8f\\xab-\\xd3\\x07\\x99\\x0f>4X\\xf5\\x85{G\\x17WJ\\x9d\\x83x>i\\xccc\\xaa\\xf47u\\x96:(\\x92s>6%\\xc5\\x96I\\xa0\\xcb\\x12O6/]ok\\xbb\\x18\\xbc\\xeb\\xcc\\xf8\\x80\\x92\\x9c\\x95\\x19&\\xbbj\\x9f\\xad\\xc4\\xbb\\xa6\\xcb\\xe4+\\xde\\x9b\\x7f\\xe3\\x1d\\xd4\\x0b\\x05T\\x05_\\x82$u\\x17N\\xc0\\xe7D5m\\x8em\\xd0\\xeei\\xefk\\r\\x93\\x8d\\x13\\x03Z\\xa4\\n\\x1f<\\x80\\xb7\\x94\\xfc\\x08\\xbc\\xdb\\xcba\\n\\xa7\\xb3\\x0c\\xeaErw\\xffC\\xee\\x8a\\xff{\\xefA~\\tR\\xe9a\\xc2xU=l.\\xe9\\xaa\\xb1\\xce\\xda\\xea\\xb7\\xf7D\\x9bF\\xa9\\xa4\\x9f\\xd2\\xd8\\x1aT\\xdfk\\x03\\xda\\xe5\\xd8Y\\xc7 f3\\x9c\\x9a%GO?\\xa9\\xea\\x17PK\\x07\\x08d\\x15\\x9b\\xbc\\xd3\\x01\\x00\\x00\\xe9\\x04\\x00\\x00PK\\x03\\x04\\x14\\x00\\x08\\x08\\x08\\x00\\xac>MN\\x00\\x00\\x00\\x00\\x00\\x00\\x00\\x00\\x00\\x00\\x00\\x00\\x0f\\x00\\x00\\x00xl/workbook.xml\\x8d\\x92Kn\\x830\\x10\\x86O\\xd0; \\xef\\xc1@\\xa2*A\\x81l\\xaaJ\\xd9T]\\xb4\\x07p\\xcc\\x10\\xac\\xf8\\x81<\\x86\\x92\\xdbwB\\x12\\xa4(\\x1bV~\\xce\\xe7\\xcf\\xf6\\xbf\\xdb\\x8fFG\\x03xT\\xce\\x96,KR\\x16\\x81\\x95\\xaeV\\xf6T\\xb2\\xdf\\x9f\\xcfx\\xc3\"\\x0c\\xc2\\xd6B;\\x0b%\\xbb\\x00\\xb2}\\xf5\\xb6\\xfbs\\xfe|t\\xee\\x1cQ\\xbd\\xc5\\x92\\xb5!t\\x05\\xe7([0\\x02\\x13\\xd7\\x81\\xa5\\x95\\xc6y#\\x02\\r\\xfd\\x89c\\xe7A\\xd4\\xd8\\x02\\x04\\xa3y\\x9e\\xa6\\xef\\xdc\\x08e\\xd9\\x8dP\\xf8%\\x0c\\xd74J\\xc2\\x87\\x93\\xbd\\x01\\x1bn\\x10\\x0fZ\\x04\\xb2\\xc7Vu\\xf8\\xa0\\x99\\xf1\\x05g\\x94\\xf4\\x0e]\\x13\\x12\\xe9\\xcc\\x9dD\\x06\\x92\\xc3(a\\x12\\xda<\\t\\x19\\xb9\\xc4\\xc8\\x08\\x7f\\xee\\xbb\\x98\\x90\\x1dY\\x1c\\x95V\\xe12y\\xcd\\x98\\xa1d\\xbd\\xb7\\xc5\\x9d\\x11\\xcf\\x1a\\xd7\\x9a\\x82\\xce/\\x06\\xa3\\x1f\\x9b\\xc7l\\xbd\\xcc\\xfb\\xe51\\xb7|\\xfbdO$\\xf1z\\x81\\xe5,!g\\x92Y\\x86\\x99\\x9f\\xf1\\xfe\\xaf\\xd5\\x9c\\x91o\\xcf\\xab\\xdd\\xc4\\xc7{{\\x8dT\\xa04\\r\\n\\xd5Q\\x03\\x8b\\xac04\\xf4\\x80\\xbd\\x0e\\x18\\xe7i\\xb6M\\xf3l\\x15g\\xeb|\\xbbN\\x13\\x89\\x03\\xa5\\xf0Zx\\xa8)\\xa4,\\xf2\\x85\\xa2\\x8e?\\xd4+Fh\\xfe`\\xd7\\xd0(\\x0b\\xf5\\x17\\xc1\\x90\\xe6\\xa5\\xd0r:\\x9b?L\\xaa\\x7fPK\\x07\\x08S\\xd3V4L\\x01\\x00\\x00\\xf0\\x02\\x00\\x00PK\\x03\\x04\\x14\\x00\\x08\\x08\\x08\\x00\\xac>MN\\x00\\x00\\x00\\x00\\x00\\x00\\x00\\x00\\x00\\x00\\x00\\x00\\x1a\\x00\\x00\\x00xl/_rels/workbook.xml.rels\\xad\\x91\\xcfj\\xc30\\x0c\\x87\\x9f`\\xef`t_\\x9ct0\\xc6\\xa8\\xd3K\\x19\\xf4\\xbae\\x0f l%\\x0eMlci\\x7f\\xf2\\xf6\\xf3\\x18\\xdbR(c\\x87\\x9e\\x84d\\xf4\\xfd>\\xe4\\xed\\xee}\\x9e\\xd4+e\\x1ec0\\xd0T5(\\n6\\xba1\\x0c\\x06\\x9e\\xbb\\x87\\xeb;P,\\x18\\x1cN1\\x90\\x81\\x85\\x18v\\xed\\xd5\\xf6\\x91&\\x94\\xb2\\xc3~L\\xac\\n$\\xb0\\x01/\\x92\\xee\\xb5f\\xebiF\\xaeb\\xa2P^\\xfa\\x98g\\x94\\xd2\\xe6A\\'\\xb4G\\x1cHo\\xea\\xfaV\\xe75\\x03\\xda\\x13\\xa6:8\\x03\\xf9\\xe0\\x1aP\\xdd\\x92\\xe8?\\xec\\xd8\\xf7\\xa3\\xa5}\\xb4/3\\x059\\x13\\xa1Y\\x96\\xa9\\xf8\\xab\\x0e\\xf3@b\\xe0\\xab\\xaf\\n\\x07\\xf4\\xf9\\xf8\\xcdE\\xe3=frO\\x92\\xcbq\\xd7\\x16\\xeb\\xf1_27\\x97\\x94y\\x8b\\xf9\\xc8\\x9eH~E~F\\x9f\\xaa\\xa54\\xdf2\\xfa\\xe4\\xb7\\xdb\\x0fPK\\x07\\x08\\x0b\\x7fiq\\xda\\x00\\x00\\x005\\x02\\x00\\x00PK\\x03\\x04\\x14\\x00\\x08\\x08\\x08\\x00\\xac>MN\\x00\\x00\\x00\\x00\\x00\\x00\\x00\\x00\\x00\\x00\\x00\\x00\\x0b\\x00\\x00\\x00_rels/.rels\\x8d\\xcfA\\x0e\\x820\\x10\\x05\\xd0\\x13x\\x87f\\xf6Rpa\\x8c\\xa1\\xb01&l\\r\\x1e\\xa0\\xb6C!@\\xa7i\\xab\\xc2\\xed\\xedR\\x8d\\x0b\\x97\\x93\\xf9\\xf3~\\xa6\\xac\\x97yb\\x0f\\xf4a +\\xa0\\xc8r`h\\x15\\xe9\\xc1\\x1a\\x01\\xd7\\xf6\\xbc=\\x00\\x0bQZ-\\'\\xb2(`\\xc5\\x00u\\xb5)/8\\xc9\\x98nB?\\xb8\\xc0\\x12b\\x83\\x80>Fw\\xe4<\\xa8\\x1eg\\x192rh\\xd3\\xa6#?\\xcb\\x98Fo\\xb8\\x93j\\x94\\x06\\xf9.\\xcf\\xf7\\xdc\\xbf\\x1bP}\\x98\\xac\\xd1\\x02|\\xa3\\x0b`\\xed\\xea\\xf0\\x1f\\x9b\\xbanPx\"u\\x9f\\xd1\\xc6\\x1f\\x15_\\x89$Ko0\\nX&\\xfe$?\\xde\\x88\\xc6,\\xa1\\xc0\\xab\\x92\\x7f<X\\xbd\\x00PK\\x07\\x08\\xa4o\\xa1 \\xb2\\x00\\x00\\x00(\\x01\\x00\\x00PK\\x03\\x04\\x14\\x00\\x08\\x08\\x08\\x00\\xac>MN\\x00\\x00\\x00\\x00\\x00\\x00\\x00\\x00\\x00\\x00\\x00\\x00\\x13\\x00\\x00\\x00[Content_Types].xml\\xb5S\\xcbN\\x031\\x0c\\xfc\\x02\\xfea\\x95+j\\xd2r@\\x08u\\xdb\\x03\\x8f# Q>\\xc0$\\xden\\xd4\\xbc\\x14\\xbb\\xaf\\xbf\\'\\xbbm\\x91\\xa8\\x8a\\x04R{\\x8a\\x93\\xb1g\\xc6N2\\x9en\\xbc\\xabV\\x98\\xc9\\xc6P\\x8b\\x91\\x1c\\x8a\\n\\x83\\x8e\\xc6\\x86y->f\\xcf\\x83;Q\\x11C0\\xe0b\\xc0Zl\\x91\\xc4tr5\\x9em\\x13RU\\x8a\\x03\\xd5\\xa2eN\\xf7J\\x91n\\xd1\\x03\\xc9\\x980\\x14\\xa4\\x89\\xd9\\x03\\x97m\\x9e\\xab\\x04z\\x01sT7\\xc3\\xe1\\xad\\xd210\\x06\\x1ep\\xc7!&\\xe3Gl`\\xe9\\xb8z\\xd8\\x9dw\\xd4\\xb5\\x80\\x94\\x9c\\xd5\\xc0\\xc5\\x97*d\\xa2z\\xda\\x14pg\\xb3\\xdb\\xab?\\xd4\\xad\\x82923\\xd8\\x1b\\x91\\x19]\\x9fC\\xadMt},PP\\xea\\x14^\\xcbd\\xb25\\xf8/\\x89\\xd84V\\xa3\\x89z\\xe9K\\x89\\xa4\\x94\\x11\\x0c\\xb5\\x88\\xec\\x9d\\\\\\xc7\\xbc\\xe8\\xe3\\x9d\\xe6\\x1bd~\\x01_H\\xd5\\xc6\\xa9o\\x90T\\xbf\\x8c\\xe4\\xbe\\xd3\\xf3\\xfb\\xa0\\x162\\x9aw\\xce\\xe5\\xa2\\xe9\\x94\\x97\\x1f\\t\\xe7\\xf4a2\\xac\\x0b\\xe7)\\xcd=D\\x87\\xe0\\x92\\xfd\\xf3\\xd6\\xe1\\xe9\\xc6{\\xe4\\x92\\x93/\\xab\\xf4`\\xc3oO\\xe03\\xc6\\xc5A_\\xf5\\x1fm\\xf2\\x05PK\\x07\\x08\\xdeu\\x93\\xa2)\\x01\\x00\\x00\\xa8\\x03\\x00\\x00PK\\x01\\x02\\x14\\x00\\x14\\x00\\x08\\x08\\x08\\x00\\xac>MN\\xb7K\\\\\\x9e\\xf0\\x00\\x00\\x00{\\x02\\x00\\x00\\x18\\x00\\x00\\x00\\x00\\x00\\x00\\x00\\x00\\x00\\x00\\x00\\x00\\x00\\x00\\x00\\x00\\x00xl/drawings/drawing1.xmlPK\\x01\\x02\\x14\\x00\\x14\\x00\\x08\\x08\\x08\\x00\\xac>MN\\xf4\\xa7\\xb5\\xacu\\n\\x00\\x00jJ\\x00\\x00\\x18\\x00\\x00\\x00\\x00\\x00\\x00\\x00\\x00\\x00\\x00\\x00\\x00\\x006\\x01\\x00\\x00xl/worksheets/sheet1.xmlPK\\x01\\x02\\x14\\x00\\x14\\x00\\x08\\x08\\x08\\x00\\xac>MN\\xad\\xa8\\xebM\\xb3\\x00\\x00\\x00*\\x01\\x00\\x00#\\x00\\x00\\x00\\x00\\x00\\x00\\x00\\x00\\x00\\x00\\x00\\x00\\x00\\xf1\\x0b\\x00\\x00xl/worksheets/_rels/sheet1.xml.relsPK\\x01\\x02\\x14\\x00\\x14\\x00\\x08\\x08\\x08\\x00\\xac>MN\\xf6\\xb3+\\x1c:\\t\\x00\\x00\\xdd&\\x00\\x00\\x14\\x00\\x00\\x00\\x00\\x00\\x00\\x00\\x00\\x00\\x00\\x00\\x00\\x00\\xf5\\x0c\\x00\\x00xl/sharedStrings.xmlPK\\x01\\x02\\x14\\x00\\x14\\x00\\x08\\x08\\x08\\x00\\xac>MNd\\x15\\x9b\\xbc\\xd3\\x01\\x00\\x00\\xe9\\x04\\x00\\x00\\r\\x00\\x00\\x00\\x00\\x00\\x00\\x00\\x00\\x00\\x00\\x00\\x00\\x00q\\x16\\x00\\x00xl/styles.xmlPK\\x01\\x02\\x14\\x00\\x14\\x00\\x08\\x08\\x08\\x00\\xac>MNS\\xd3V4L\\x01\\x00\\x00\\xf0\\x02\\x00\\x00\\x0f\\x00\\x00\\x00\\x00\\x00\\x00\\x00\\x00\\x00\\x00\\x00\\x00\\x00\\x7f\\x18\\x00\\x00xl/workbook.xmlPK\\x01\\x02\\x14\\x00\\x14\\x00\\x08\\x08\\x08\\x00\\xac>MN\\x0b\\x7fiq\\xda\\x00\\x00\\x005\\x02\\x00\\x00\\x1a\\x00\\x00\\x00\\x00\\x00\\x00\\x00\\x00\\x00\\x00\\x00\\x00\\x00\\x08\\x1a\\x00\\x00xl/_rels/workbook.xml.relsPK\\x01\\x02\\x14\\x00\\x14\\x00\\x08\\x08\\x08\\x00\\xac>MN\\xa4o\\xa1 \\xb2\\x00\\x00\\x00(\\x01\\x00\\x00\\x0b\\x00\\x00\\x00\\x00\\x00\\x00\\x00\\x00\\x00\\x00\\x00\\x00\\x00*\\x1b\\x00\\x00_rels/.relsPK\\x01\\x02\\x14\\x00\\x14\\x00\\x08\\x08\\x08\\x00\\xac>MN\\xdeu\\x93\\xa2)\\x01\\x00\\x00\\xa8\\x03\\x00\\x00\\x13\\x00\\x00\\x00\\x00\\x00\\x00\\x00\\x00\\x00\\x00\\x00\\x00\\x00\\x15\\x1c\\x00\\x00[Content_Types].xmlPK\\x05\\x06\\x00\\x00\\x00\\x00\\t\\x00\\t\\x00Y\\x02\\x00\\x00\\x7f\\x1d\\x00\\x00\\x00\\x00'}"
            ]
          },
          "metadata": {
            "tags": []
          },
          "execution_count": 10
        }
      ]
    },
    {
      "metadata": {
        "id": "yQyMeyl-C-GQ",
        "colab_type": "code",
        "colab": {}
      },
      "cell_type": "code",
      "source": [
        "codes=pd.read_excel('nom_code (1).xlsx')"
      ],
      "execution_count": 0,
      "outputs": []
    },
    {
      "metadata": {
        "id": "pjdlu0eEDbZo",
        "colab_type": "code",
        "outputId": "a1d45b2b-23a2-4b7b-e73a-94825481fffe",
        "colab": {
          "base_uri": "https://localhost:8080/",
          "height": 204
        }
      },
      "cell_type": "code",
      "source": [
        "codes.head()"
      ],
      "execution_count": 12,
      "outputs": [
        {
          "output_type": "execute_result",
          "data": {
            "text/html": [
              "<div>\n",
              "<style scoped>\n",
              "    .dataframe tbody tr th:only-of-type {\n",
              "        vertical-align: middle;\n",
              "    }\n",
              "\n",
              "    .dataframe tbody tr th {\n",
              "        vertical-align: top;\n",
              "    }\n",
              "\n",
              "    .dataframe thead th {\n",
              "        text-align: right;\n",
              "    }\n",
              "</style>\n",
              "<table border=\"1\" class=\"dataframe\">\n",
              "  <thead>\n",
              "    <tr style=\"text-align: right;\">\n",
              "      <th></th>\n",
              "      <th>NOM_ENSEMBLE</th>\n",
              "      <th>CODE_ENSEMBLE_IMMO</th>\n",
              "    </tr>\n",
              "  </thead>\n",
              "  <tbody>\n",
              "    <tr>\n",
              "      <th>0</th>\n",
              "      <td>DRAGUIGNAN</td>\n",
              "      <td>FB319</td>\n",
              "    </tr>\n",
              "    <tr>\n",
              "      <th>1</th>\n",
              "      <td>VILLEURBANNE HYPER</td>\n",
              "      <td>FB117</td>\n",
              "    </tr>\n",
              "    <tr>\n",
              "      <th>2</th>\n",
              "      <td>SENS HYPER VOULX</td>\n",
              "      <td>FB353</td>\n",
              "    </tr>\n",
              "    <tr>\n",
              "      <th>3</th>\n",
              "      <td>ST JEAN DE VEDAS</td>\n",
              "      <td>FB104</td>\n",
              "    </tr>\n",
              "    <tr>\n",
              "      <th>4</th>\n",
              "      <td>NEVERS MARZY</td>\n",
              "      <td>FB074</td>\n",
              "    </tr>\n",
              "  </tbody>\n",
              "</table>\n",
              "</div>"
            ],
            "text/plain": [
              "         NOM_ENSEMBLE CODE_ENSEMBLE_IMMO\n",
              "0          DRAGUIGNAN              FB319\n",
              "1  VILLEURBANNE HYPER              FB117\n",
              "2    SENS HYPER VOULX              FB353\n",
              "3    ST JEAN DE VEDAS              FB104\n",
              "4        NEVERS MARZY              FB074"
            ]
          },
          "metadata": {
            "tags": []
          },
          "execution_count": 12
        }
      ]
    },
    {
      "metadata": {
        "id": "ibmhTq3d-kha",
        "colab_type": "code",
        "colab": {
          "base_uri": "https://localhost:8080/",
          "height": 34
        },
        "outputId": "7a81295c-f4b1-4ad2-d616-53d6335658a4"
      },
      "cell_type": "code",
      "source": [
        "centres[0]"
      ],
      "execution_count": 58,
      "outputs": [
        {
          "output_type": "execute_result",
          "data": {
            "text/plain": [
              "'Le Salamandrier'"
            ]
          },
          "metadata": {
            "tags": []
          },
          "execution_count": 58
        }
      ]
    },
    {
      "metadata": {
        "id": "JURfCVQREZnZ",
        "colab_type": "code",
        "colab": {}
      },
      "cell_type": "code",
      "source": [
        "i = 0\n",
        "j = 0\n",
        "x = campaign_names[i]\n",
        "y = centres[j]\n",
        "if x.find(y)>=0:\n",
        "  nom_ens.append(center_name_correspondance[y])\n",
        "  i=i+1\n",
        "elif x.find(y)<0:\n",
        "  j=j+1"
      ],
      "execution_count": 0,
      "outputs": []
    },
    {
      "metadata": {
        "id": "exV7K0DDDem4",
        "colab_type": "code",
        "colab": {}
      },
      "cell_type": "code",
      "source": [
        "center_name_correspondance = {'Le Salamandrier':'DRAGUIGNAN', 'BAB 2': 'ANGLET', 'Geric': 'THIONVILLE GERIC', 'Aix la Pioline':'AIX EN PROVENCE', 'Amiens':'AMIENS HYPER', 'Angers St Serge':'ANGERS ST SERGE', 'Angoulins':'ANGOULINS SUR MER','Annecy':'ANNECY BROGNY','Antibes':'ANTIBES HYPER', 'Athis-Mons':'ATHIS-MONS HYPER', 'Auchy-Les-Mines':'AUCHY LES MINES', 'Bassens':'CHAMBERY BASSENS', 'Bay 2':'TORCY COLLEGIEN', 'Berck':'BERCK SUR MER HYPER', 'Bouchardes':'CRECHES SUR SAONE', 'Bourges':'BOURGES', 'Brou':'HAZEBROUCK', 'Cap Saran':'SARAN', 'Chambourcy':'CHAMBOURCY', 'Châteauroux':'CHATEAUROUX HYPER','Cité Europe':'CALAIS COQUELLES ', 'Condé Alençon':'CONDE SUR SARTHE', 'Croix Dampierre':'CHALON EN CHAMPAGNE', 'Douai Flers':'DOUAI SUR FLERS', 'Evreux':'EVREUX', 'Francheville':'FRANCHEVILLE', 'Gennevilliers': 'GENNEVILLIERS', 'Grand Evreux':'EVREUX', 'Hérouville':'HEROUVILLE ST CLAIR', 'Iroise':'BREST HYPER', 'La Beaujoire':'NANTES BEAUJOIRE', 'La Croisette':'CHARLEVILLE MEZIERES', 'Laon':'LAON', 'Laval':'LAVAL', 'Les Sept Chemins':'VAULX EN VELIN', 'Escapade':'LA CHAPELLE ST LUC', 'Lescar':'LESCAR GM', 'Libourne':'LIBOURNE', 'Lingostière':'NICE LINGOSTIERE', 'Mont de Marsan':'MONT DE MARSAN', 'Montesson':'MONTESSON HYPER ', 'Nevers Marzy':'NEVERS MARZY','Nice Lingostière':'NICE LINGOSTIERE', 'Nîmes Sud':'NIMES SUD','Orange Le Coudoulet':'ORANGE', 'Pau Lescar':'LESCAR GM', 'Pince-Vent':'CHAMPS SUR MARNE ', \"Place d'Arc\":\"ORLEANS PLACE D'ARC\",'Port de Bouc':'PORT DE BOUC','Quimper':'QUIMPER', 'Saint-Serge':'ANGERS ST SERGE','Salaise':'SALAISE SUR SANNE', 'Salanca':'PERPIGNAN CLAIRA', 'Salaise-sur-Sanne':'SALAISE SUR SANNE', 'Sannois':'SANNOIS', 'Sartrouville':'SARTROUVILLE', 'St Jean de Védas':'ST JEAN DE VEDAS', 'Trans-en-Provence':'TRANS EN PROVENCE', 'Vénissieux':'VENISSIEUX', 'Villabé':'VILLABE', 'Villejuif7':'VILLEJUIF', 'Vitrolles':'VITROLLES ','Wasquehal':'WASQUEHAL', 'Saint-Jacques Montluçon':'0', 'Mondevillage':'0'}"
      ],
      "execution_count": 0,
      "outputs": []
    },
    {
      "metadata": {
        "id": "n2F2leSvSci7",
        "colab_type": "code",
        "colab": {}
      },
      "cell_type": "code",
      "source": [
        "center_name_correspondance"
      ],
      "execution_count": 0,
      "outputs": []
    },
    {
      "metadata": {
        "id": "blsV4DQsynot",
        "colab_type": "code",
        "outputId": "55627780-0c6b-4d1c-a122-28ac278fdd8f",
        "colab": {
          "base_uri": "https://localhost:8080/",
          "height": 34
        }
      },
      "cell_type": "code",
      "source": [
        "len(center_name_correspondance)"
      ],
      "execution_count": 79,
      "outputs": [
        {
          "output_type": "execute_result",
          "data": {
            "text/plain": [
              "65"
            ]
          },
          "metadata": {
            "tags": []
          },
          "execution_count": 79
        }
      ]
    },
    {
      "metadata": {
        "id": "AMFMhbh0DuA4",
        "colab_type": "code",
        "outputId": "b99a845a-a378-4d2d-d225-49719908a3e8",
        "colab": {
          "base_uri": "https://localhost:8080/",
          "height": 34
        }
      },
      "cell_type": "code",
      "source": [
        "campaign_names=list(fb['campaign_name'])\n",
        "len(campaign_names)"
      ],
      "execution_count": 105,
      "outputs": [
        {
          "output_type": "execute_result",
          "data": {
            "text/plain": [
              "3826"
            ]
          },
          "metadata": {
            "tags": []
          },
          "execution_count": 105
        }
      ]
    },
    {
      "metadata": {
        "id": "D8bef1w4FG2L",
        "colab_type": "code",
        "colab": {}
      },
      "cell_type": "code",
      "source": [
        "# liste des noms des ensembles\n",
        "nom_ens=[]"
      ],
      "execution_count": 0,
      "outputs": []
    },
    {
      "metadata": {
        "id": "IM63RSZ5_X7s",
        "colab_type": "code",
        "colab": {
          "base_uri": "https://localhost:8080/",
          "height": 34
        },
        "outputId": "36d2fc80-9af8-44a0-b2eb-d957eb42f042"
      },
      "cell_type": "code",
      "source": [
        "nom_ens"
      ],
      "execution_count": 107,
      "outputs": [
        {
          "output_type": "execute_result",
          "data": {
            "text/plain": [
              "[]"
            ]
          },
          "metadata": {
            "tags": []
          },
          "execution_count": 107
        }
      ]
    },
    {
      "metadata": {
        "id": "jA9NjiXW_YCT",
        "colab_type": "code",
        "colab": {}
      },
      "cell_type": "code",
      "source": [
        ""
      ],
      "execution_count": 0,
      "outputs": []
    },
    {
      "metadata": {
        "id": "wlnWPmBMEm83",
        "colab_type": "code",
        "colab": {}
      },
      "cell_type": "code",
      "source": [
        "for campaign_name in campaign_names:\n",
        "  for center_name in center_name_correspondance.keys():\n",
        "    if campaign_name.find(center_name)>0:\n",
        "      nom_ens.append(center_name_correspondance[center_name])\n",
        "      break\n",
        "      "
      ],
      "execution_count": 0,
      "outputs": []
    },
    {
      "metadata": {
        "id": "vOojzEYs_YEC",
        "colab_type": "code",
        "colab": {
          "base_uri": "https://localhost:8080/",
          "height": 34
        },
        "outputId": "7b413c5c-d256-4d93-8470-b239e0a6a4e8"
      },
      "cell_type": "code",
      "source": [
        "len(nom_ens)"
      ],
      "execution_count": 109,
      "outputs": [
        {
          "output_type": "execute_result",
          "data": {
            "text/plain": [
              "3805"
            ]
          },
          "metadata": {
            "tags": []
          },
          "execution_count": 109
        }
      ]
    },
    {
      "metadata": {
        "id": "PooKNw22QVDU",
        "colab_type": "code",
        "colab": {}
      },
      "cell_type": "code",
      "source": [
        "df = pd.DataFrame({'NOM_COMP':campaign_names})"
      ],
      "execution_count": 0,
      "outputs": []
    },
    {
      "metadata": {
        "id": "-sqDjC4hQVFu",
        "colab_type": "code",
        "colab": {
          "base_uri": "https://localhost:8080/",
          "height": 204
        },
        "outputId": "a3091db3-96ff-490c-8cd0-f193c9831707"
      },
      "cell_type": "code",
      "source": [
        "df.head()"
      ],
      "execution_count": 112,
      "outputs": [
        {
          "output_type": "execute_result",
          "data": {
            "text/html": [
              "<div>\n",
              "<style scoped>\n",
              "    .dataframe tbody tr th:only-of-type {\n",
              "        vertical-align: middle;\n",
              "    }\n",
              "\n",
              "    .dataframe tbody tr th {\n",
              "        vertical-align: top;\n",
              "    }\n",
              "\n",
              "    .dataframe thead th {\n",
              "        text-align: right;\n",
              "    }\n",
              "</style>\n",
              "<table border=\"1\" class=\"dataframe\">\n",
              "  <thead>\n",
              "    <tr style=\"text-align: right;\">\n",
              "      <th></th>\n",
              "      <th>NOM_COMP</th>\n",
              "    </tr>\n",
              "  </thead>\n",
              "  <tbody>\n",
              "    <tr>\n",
              "      <th>0</th>\n",
              "      <td>20181223-FB-BOOST-EVENT-CC Hérouville - Père Noel</td>\n",
              "    </tr>\n",
              "    <tr>\n",
              "      <th>1</th>\n",
              "      <td>20181224-FB-BOOST-BOUTIQUE-CC Lescar - Bijoux ...</td>\n",
              "    </tr>\n",
              "    <tr>\n",
              "      <th>2</th>\n",
              "      <td>20181224-FB-BOOST-BOUTIQUE-CC Lescar - Bijoux ...</td>\n",
              "    </tr>\n",
              "    <tr>\n",
              "      <th>3</th>\n",
              "      <td>20190126-FB-OPESPE-SOLDESHIV-CC Cap Saran - 17...</td>\n",
              "    </tr>\n",
              "    <tr>\n",
              "      <th>4</th>\n",
              "      <td>20190112-FB-OPESPE-SOLDESHIV-CC Chambourcy - 3...</td>\n",
              "    </tr>\n",
              "  </tbody>\n",
              "</table>\n",
              "</div>"
            ],
            "text/plain": [
              "                                            NOM_COMP\n",
              "0  20181223-FB-BOOST-EVENT-CC Hérouville - Père Noel\n",
              "1  20181224-FB-BOOST-BOUTIQUE-CC Lescar - Bijoux ...\n",
              "2  20181224-FB-BOOST-BOUTIQUE-CC Lescar - Bijoux ...\n",
              "3  20190126-FB-OPESPE-SOLDESHIV-CC Cap Saran - 17...\n",
              "4  20190112-FB-OPESPE-SOLDESHIV-CC Chambourcy - 3..."
            ]
          },
          "metadata": {
            "tags": []
          },
          "execution_count": 112
        }
      ]
    },
    {
      "metadata": {
        "id": "aVJNZuNnRenS",
        "colab_type": "code",
        "colab": {
          "base_uri": "https://localhost:8080/",
          "height": 34
        },
        "outputId": "850386de-4cf8-43fc-c6f8-3f83fc339a30"
      },
      "cell_type": "code",
      "source": [
        "df.shape"
      ],
      "execution_count": 115,
      "outputs": [
        {
          "output_type": "execute_result",
          "data": {
            "text/plain": [
              "(3826, 1)"
            ]
          },
          "metadata": {
            "tags": []
          },
          "execution_count": 115
        }
      ]
    },
    {
      "metadata": {
        "id": "YJhx8rm-QVIN",
        "colab_type": "code",
        "colab": {}
      },
      "cell_type": "code",
      "source": [
        "centers_list=list(d.keys())"
      ],
      "execution_count": 0,
      "outputs": []
    },
    {
      "metadata": {
        "id": "F-UdOcOUQVMb",
        "colab_type": "code",
        "colab": {}
      },
      "cell_type": "code",
      "source": [
        "NOM_ENS = ['' for i in range(3826)]"
      ],
      "execution_count": 0,
      "outputs": []
    },
    {
      "metadata": {
        "id": "Byjxqq-eQVVz",
        "colab_type": "code",
        "colab": {}
      },
      "cell_type": "code",
      "source": [
        "i = 0\n",
        "for x in campaign_names:\n",
        "  for y in centers_list:\n",
        "    if x.find(y)>0:\n",
        "      NOM_ENS[i]=center_name_correspondance[y]\n",
        "  i=i+1"
      ],
      "execution_count": 0,
      "outputs": []
    },
    {
      "metadata": {
        "id": "KBgYpA7aSXuw",
        "colab_type": "code",
        "colab": {}
      },
      "cell_type": "code",
      "source": [
        "\"\"\"for campaign_name in campaign_names:\n",
        "  for center_name in center_name_correspondance.keys():\n",
        "    if campaign_name.find(center_name)>0:\n",
        "      nom_ens.append(center_name_correspondance[center_name])\n",
        "      break\"\"\""
      ],
      "execution_count": 0,
      "outputs": []
    },
    {
      "metadata": {
        "id": "p1Fi3RPrQVYk",
        "colab_type": "code",
        "colab": {
          "base_uri": "https://localhost:8080/",
          "height": 34
        },
        "outputId": "88e429c9-04f2-441c-c08b-483e9647bb46"
      },
      "cell_type": "code",
      "source": [
        "len(NOM_ENS)"
      ],
      "execution_count": 133,
      "outputs": [
        {
          "output_type": "execute_result",
          "data": {
            "text/plain": [
              "3826"
            ]
          },
          "metadata": {
            "tags": []
          },
          "execution_count": 133
        }
      ]
    },
    {
      "metadata": {
        "id": "2VAWmlULS6i6",
        "colab_type": "code",
        "colab": {}
      },
      "cell_type": "code",
      "source": [
        "df['NOM_ENSEMBLE']=NOM_ENS"
      ],
      "execution_count": 0,
      "outputs": []
    },
    {
      "metadata": {
        "id": "Ls_Jcr6LQVas",
        "colab_type": "code",
        "colab": {
          "base_uri": "https://localhost:8080/",
          "height": 204
        },
        "outputId": "9af712df-08e4-4188-f9d5-b446aa7e856f"
      },
      "cell_type": "code",
      "source": [
        "df.tail()"
      ],
      "execution_count": 136,
      "outputs": [
        {
          "output_type": "execute_result",
          "data": {
            "text/html": [
              "<div>\n",
              "<style scoped>\n",
              "    .dataframe tbody tr th:only-of-type {\n",
              "        vertical-align: middle;\n",
              "    }\n",
              "\n",
              "    .dataframe tbody tr th {\n",
              "        vertical-align: top;\n",
              "    }\n",
              "\n",
              "    .dataframe thead th {\n",
              "        text-align: right;\n",
              "    }\n",
              "</style>\n",
              "<table border=\"1\" class=\"dataframe\">\n",
              "  <thead>\n",
              "    <tr style=\"text-align: right;\">\n",
              "      <th></th>\n",
              "      <th>NOM_COMP</th>\n",
              "      <th>NOM_ENSEMBLE</th>\n",
              "    </tr>\n",
              "  </thead>\n",
              "  <tbody>\n",
              "    <tr>\n",
              "      <th>3821</th>\n",
              "      <td>20190219-FB-OPESPE-SOLDESHIV-CC Grand Evreux -...</td>\n",
              "      <td>EVREUX</td>\n",
              "    </tr>\n",
              "    <tr>\n",
              "      <th>3822</th>\n",
              "      <td>20190219-FB-OPESPE-SOLDESHIV-CC Grand Evreux -...</td>\n",
              "      <td>EVREUX</td>\n",
              "    </tr>\n",
              "    <tr>\n",
              "      <th>3823</th>\n",
              "      <td>20190219-FB-OPESPE-SOLDESHIV-CC Grand Evreux -...</td>\n",
              "      <td>EVREUX</td>\n",
              "    </tr>\n",
              "    <tr>\n",
              "      <th>3824</th>\n",
              "      <td>20190219-FB-OPESPE-SOLDESHIV-CC Grand Evreux -...</td>\n",
              "      <td>EVREUX</td>\n",
              "    </tr>\n",
              "    <tr>\n",
              "      <th>3825</th>\n",
              "      <td>20190219-FB-OPESPE-SOLDESHIV-CC Grand Evreux -...</td>\n",
              "      <td>EVREUX</td>\n",
              "    </tr>\n",
              "  </tbody>\n",
              "</table>\n",
              "</div>"
            ],
            "text/plain": [
              "                                               NOM_COMP NOM_ENSEMBLE\n",
              "3821  20190219-FB-OPESPE-SOLDESHIV-CC Grand Evreux -...       EVREUX\n",
              "3822  20190219-FB-OPESPE-SOLDESHIV-CC Grand Evreux -...       EVREUX\n",
              "3823  20190219-FB-OPESPE-SOLDESHIV-CC Grand Evreux -...       EVREUX\n",
              "3824  20190219-FB-OPESPE-SOLDESHIV-CC Grand Evreux -...       EVREUX\n",
              "3825  20190219-FB-OPESPE-SOLDESHIV-CC Grand Evreux -...       EVREUX"
            ]
          },
          "metadata": {
            "tags": []
          },
          "execution_count": 136
        }
      ]
    },
    {
      "metadata": {
        "id": "JvfIzanlVsMt",
        "colab_type": "code",
        "colab": {
          "base_uri": "https://localhost:8080/",
          "height": 204
        },
        "outputId": "e6f8a854-4fa6-4535-97c6-46ee33fdeab8"
      },
      "cell_type": "code",
      "source": [
        "codes.head()"
      ],
      "execution_count": 137,
      "outputs": [
        {
          "output_type": "execute_result",
          "data": {
            "text/html": [
              "<div>\n",
              "<style scoped>\n",
              "    .dataframe tbody tr th:only-of-type {\n",
              "        vertical-align: middle;\n",
              "    }\n",
              "\n",
              "    .dataframe tbody tr th {\n",
              "        vertical-align: top;\n",
              "    }\n",
              "\n",
              "    .dataframe thead th {\n",
              "        text-align: right;\n",
              "    }\n",
              "</style>\n",
              "<table border=\"1\" class=\"dataframe\">\n",
              "  <thead>\n",
              "    <tr style=\"text-align: right;\">\n",
              "      <th></th>\n",
              "      <th>NOM_ENSEMBLE</th>\n",
              "      <th>CODE_ENSEMBLE_IMMO</th>\n",
              "    </tr>\n",
              "  </thead>\n",
              "  <tbody>\n",
              "    <tr>\n",
              "      <th>0</th>\n",
              "      <td>DRAGUIGNAN</td>\n",
              "      <td>FB319</td>\n",
              "    </tr>\n",
              "    <tr>\n",
              "      <th>1</th>\n",
              "      <td>VILLEURBANNE HYPER</td>\n",
              "      <td>FB117</td>\n",
              "    </tr>\n",
              "    <tr>\n",
              "      <th>2</th>\n",
              "      <td>SENS HYPER VOULX</td>\n",
              "      <td>FB353</td>\n",
              "    </tr>\n",
              "    <tr>\n",
              "      <th>3</th>\n",
              "      <td>ST JEAN DE VEDAS</td>\n",
              "      <td>FB104</td>\n",
              "    </tr>\n",
              "    <tr>\n",
              "      <th>4</th>\n",
              "      <td>NEVERS MARZY</td>\n",
              "      <td>FB074</td>\n",
              "    </tr>\n",
              "  </tbody>\n",
              "</table>\n",
              "</div>"
            ],
            "text/plain": [
              "         NOM_ENSEMBLE CODE_ENSEMBLE_IMMO\n",
              "0          DRAGUIGNAN              FB319\n",
              "1  VILLEURBANNE HYPER              FB117\n",
              "2    SENS HYPER VOULX              FB353\n",
              "3    ST JEAN DE VEDAS              FB104\n",
              "4        NEVERS MARZY              FB074"
            ]
          },
          "metadata": {
            "tags": []
          },
          "execution_count": 137
        }
      ]
    },
    {
      "metadata": {
        "id": "IH_Btio9QVck",
        "colab_type": "code",
        "colab": {}
      },
      "cell_type": "code",
      "source": [
        "orderder = codes.sort_values('NOM_ENSEMBLE')"
      ],
      "execution_count": 0,
      "outputs": []
    },
    {
      "metadata": {
        "id": "HSW1NR4-WAGe",
        "colab_type": "code",
        "colab": {}
      },
      "cell_type": "code",
      "source": [
        "noms_base = orderder.NOM_ENSEMBLE.tolist()"
      ],
      "execution_count": 0,
      "outputs": []
    },
    {
      "metadata": {
        "id": "Qbp1ZzImWi5_",
        "colab_type": "code",
        "colab": {
          "base_uri": "https://localhost:8080/",
          "height": 34
        },
        "outputId": "f26d1478-7c96-4284-e898-d78f4b72a56c"
      },
      "cell_type": "code",
      "source": [
        "len(noms_base)"
      ],
      "execution_count": 146,
      "outputs": [
        {
          "output_type": "execute_result",
          "data": {
            "text/plain": [
              "195"
            ]
          },
          "metadata": {
            "tags": []
          },
          "execution_count": 146
        }
      ]
    },
    {
      "metadata": {
        "id": "zMGihhp5WdJ2",
        "colab_type": "code",
        "colab": {}
      },
      "cell_type": "code",
      "source": [
        "codes_base = orderder.CODE_ENSEMBLE_IMMO.tolist()"
      ],
      "execution_count": 0,
      "outputs": []
    },
    {
      "metadata": {
        "id": "vUUZAPj1XOQs",
        "colab_type": "code",
        "colab": {
          "base_uri": "https://localhost:8080/",
          "height": 34
        },
        "outputId": "cc444e32-2eef-4b60-a69e-919770a673ae"
      },
      "cell_type": "code",
      "source": [
        "len(NOM_ENS)"
      ],
      "execution_count": 152,
      "outputs": [
        {
          "output_type": "execute_result",
          "data": {
            "text/plain": [
              "3826"
            ]
          },
          "metadata": {
            "tags": []
          },
          "execution_count": 152
        }
      ]
    },
    {
      "metadata": {
        "id": "UmvrkcG5WoLu",
        "colab_type": "code",
        "colab": {}
      },
      "cell_type": "code",
      "source": [
        "k = 0\n",
        "for x in NOM_ENS:\n",
        "  for i in range(len(noms_base)):\n",
        "    if x==noms_base[i]:\n",
        "      codes_to_add[k]=codes_base[i]\n",
        "  k=k+1"
      ],
      "execution_count": 0,
      "outputs": []
    },
    {
      "metadata": {
        "id": "KI0pX12tXcaM",
        "colab_type": "code",
        "colab": {}
      },
      "cell_type": "code",
      "source": [
        "i = 0\n",
        "for x in campaign_names:\n",
        "  for y in centers_list:\n",
        "    if x.find(y)>0:\n",
        "      NOM_ENS[i]=center_name_correspondance[y]\n",
        "  i=i+1"
      ],
      "execution_count": 0,
      "outputs": []
    },
    {
      "metadata": {
        "id": "OuE8iC-JWoOU",
        "colab_type": "code",
        "colab": {
          "base_uri": "https://localhost:8080/",
          "height": 34
        },
        "outputId": "dd5102bc-c925-4bde-c081-e0b6d0f62416"
      },
      "cell_type": "code",
      "source": [
        "len(codes_to_add)"
      ],
      "execution_count": 160,
      "outputs": [
        {
          "output_type": "execute_result",
          "data": {
            "text/plain": [
              "3826"
            ]
          },
          "metadata": {
            "tags": []
          },
          "execution_count": 160
        }
      ]
    },
    {
      "metadata": {
        "id": "DknX9K-VX_b-",
        "colab_type": "code",
        "colab": {
          "base_uri": "https://localhost:8080/",
          "height": 54
        },
        "outputId": "29cd3596-547f-4743-b27f-4af7ab8a7736"
      },
      "cell_type": "code",
      "source": [
        "print(codes_to_add)"
      ],
      "execution_count": 161,
      "outputs": [
        {
          "output_type": "stream",
          "text": [
            "['FB046', 'FB122', 'FB122', 'FB094', 'FB312', 'FB312', 'FB312', 'FB210', 'FB210', 'FB210', 'FB210', '', '', '', '', 'FB030', 'FB030', 'FB030', 'FB208', 'FB208', 'FB208', 'FB005', 'FB005', 'FB005', 'FB209', 'FB209', 'FB209', 'FB007', 'FB007', 'FB007', 'FB312', 'FB312', 'FB312', 'FB074', 'FB074', 'FB354', 'FB017', 'FB017', 'FB017', 'FB302', 'FB302', 'FB302', 'FB363', 'FB363', 'FB363', 'FB046', 'FB122', 'FB122', 'FB095', 'FB095', 'FB095', 'FB195', 'FB195', 'FB195', 'FB354', 'FB354', 'FB354', 'FB354', 'FB004', 'FB004', 'FB004', 'FB004', 'FB004', 'FB004', 'FB017', 'FB017', 'FB017', 'FB312', 'FB052', 'FB122', 'FB122', 'FB122', 'FB122', 'FB076', 'FB076', 'FB076', 'FB081', 'FB081', 'FB209', 'FB209', 'FB363', 'FB363', 'FB022', 'FB022', 'FB022', 'FB022', 'FB022', 'FB022', '', '', '', '', '', '', '', 'FB303', 'FB052', 'FB052', 'FB052', 'FB081', 'FB209', 'FB354', 'FB356', 'FB356', 'FB325', 'FB363', 'FB363', 'FB253', 'FB071', 'FB078', 'FB302', 'FB023', 'FB026', 'FB200', 'FB104', 'FB115', 'FB115', 'FB360', 'FB360', 'FB313', 'FB006', '', 'FB085', 'FB319', 'FB116', 'FB008', 'FB208', 'FB001', 'FB122', '', '', '', '', '', 'FB074', 'FB074', 'FB074', 'FB094', 'FB094', 'FB094', 'FB210', '', '', '', '', 'FB312', 'FB312', 'FB030', 'FB030', 'FB030', 'FB209', 'FB209', 'FB209', 'FB005', 'FB005', 'FB005', '', 'FB095', 'FB095', 'FB345', 'FB345', 'FB345', 'FB345', 'FB345', 'FB345', 'FB345', 'FB345', 'FB008', 'FB008', 'FB122', 'FB122', 'FB122', 'FB122', 'FB122', 'FB122', 'FB122', 'FB122', 'FB122', 'FB122', 'FB363', 'FB363', 'FB363', 'FB363', 'FB363', 'FB363', 'FB302', 'FB302', 'FB302', 'FB302', 'FB302', 'FB302', 'FB095', 'FB095', 'FB095', 'FB095', '', '', '', 'FB305', 'FB305', 'FB305', 'FB305', 'FB305', 'FB305', 'FB305', 'FB305', 'FB122', 'FB083', 'FB363', 'FB081', 'FB081', 'FB354', '', '', '', 'FB076', 'FB030', 'FB209', 'FB354', 'FB354', 'FB354', 'FB354', 'FB354', 'FB122', 'FB122', 'FB122', 'FB122', 'FB122', 'FB122', 'FB122', 'FB122', 'FB122', 'FB122', '', '', '', '', '', '', '', '', '', 'FB039', 'FB039', 'FB039', 'FB039', 'FB039', 'FB039', 'FB039', 'FB039', 'FB018', 'FB018', 'FB018', 'FB018', 'FB018', 'FB018', 'FB018', 'FB018', 'FB018', 'FB018', 'FB122', 'FB122', 'FB122', 'FB312', 'FB312', 'FB312', 'FB312', 'FB312', 'FB312', 'FB122', 'FB122', '', '', '', '', 'FB074', 'FB074', 'FB074', 'FB074', 'FB074', 'FB094', 'FB094', 'FB094', 'FB210', 'FB210', '', '', 'FB312', 'FB312', 'FB312', 'FB312', 'FB312', 'FB312', 'FB312', 'FB312', 'FB312', 'FB122', 'FB122', 'FB122', '', '', '', 'FB122', 'FB363', 'FB363', 'FB363', 'FB354', 'FB302', 'FB302', 'FB302', 'FB095', 'FB345', 'FB345', 'FB345', 'FB122', 'FB122', 'FB122', 'FB305', 'FB305', 'FB305', 'FB008', 'FB008', '', '', '', 'FB122', 'FB122', 'FB122', 'FB195', 'FB195', 'FB195', 'FB195', 'FB354', 'FB354', 'FB354', 'FB004', 'FB004', 'FB004', 'FB017', 'FB017', 'FB017', 'FB312', 'FB312', 'FB312', 'FB052', 'FB052', 'FB052', 'FB052', 'FB122', 'FB122', 'FB122', 'FB076', 'FB076', 'FB076', 'FB081', 'FB081', 'FB081', 'FB083', 'FB083', 'FB209', 'FB209', 'FB209', 'FB209', 'FB209', 'FB363', 'FB363', 'FB363', 'FB363', 'FB022', 'FB022', 'FB022', 'FB022', '', '', '', '', '', '', '', '', '', '', '', '', 'FB074', 'FB074', 'FB094', 'FB094', 'FB094', 'FB074', 'FB074', 'FB074', 'FB074', 'FB312', 'FB312', 'FB312', '', '', '', '', '', '', 'FB074', 'FB074', 'FB074', 'FB094', 'FB094', '', '', '', '', 'FB312', 'FB312', 'FB312', '', '', '', 'FB074', 'FB074', 'FB039', 'FB039', 'FB039', 'FB094', 'FB094', 'FB094', 'FB076', 'FB076', 'FB076', 'FB122', 'FB122', 'FB122', '', '', '', 'FB195', 'FB195', 'FB195', '', '', '', 'FB017', 'FB017', 'FB017', 'FB008', 'FB008', 'FB008', 'FB345', 'FB345', 'FB345', 'FB122', 'FB122', 'FB122', 'FB122', 'FB122', 'FB122', 'FB302', 'FB363', 'FB363', 'FB363', 'FB302', 'FB302', 'FB046', 'FB095', 'FB095', 'FB122', 'FB122', 'FB305', 'FB305', 'FB305', 'FB354', 'FB354', 'FB354', 'FB354', 'FB094', 'FB094', 'FB094', 'FB195', 'FB195', 'FB017', 'FB017', 'FB017', 'FB312', 'FB312', 'FB312', 'FB312', 'FB052', 'FB052', 'FB052', 'FB052', 'FB122', 'FB122', 'FB076', 'FB076', 'FB081', 'FB081', 'FB081', 'FB081', 'FB083', 'FB083', 'FB209', 'FB209', 'FB209', 'FB209', 'FB363', 'FB363', 'FB363', 'FB363', 'FB363', 'FB363', 'FB363', 'FB022', 'FB022', 'FB022', 'FB022', 'FB022', 'FB022', '', '', '', '', '', '', '', 'FB095', 'FB095', 'FB208', 'FB208', 'FB208', '', '', 'FB074', 'FB074', 'FB094', 'FB094', 'FB094', '', '', '', 'FB312', 'FB312', 'FB312', 'FB312', 'FB312', 'FB312', 'FB312', 'FB331', 'FB331', 'FB331', 'FB354', 'FB354', 'FB354', 'FB005', 'FB005', 'FB005', 'FB030', 'FB030', 'FB030', 'FB209', 'FB209', 'FB209', 'FB312', 'FB312', 'FB312', 'FB195', 'FB195', 'FB195', 'FB195', 'FB195', 'FB354', 'FB354', 'FB354', 'FB004', 'FB122', 'FB081', 'FB081', 'FB081', 'FB081', 'FB083', 'FB083', 'FB083', 'FB083', 'FB209', 'FB363', 'FB022', 'FB022', 'FB022', '', '', '', '', '', '', '', '', '', '', 'FB095', 'FB095', 'FB095', 'FB095', 'FB001', 'FB302', 'FB003', 'FB006', 'FB008', 'FB023', 'FB307', 'FB026', 'FB313', 'FB303', 'FB116', 'FB319', 'FB208', 'FB326', 'FB078', 'FB078', 'FB200', 'FB081', 'FB085', 'FB104', 'FB352', 'FB115', 'FB360', 'FB042', 'FB042', 'FB331', 'FB331', 'FB030', 'FB030', 'FB030', 'FB030', 'FB209', 'FB209', 'FB209', 'FB354', 'FB354', 'FB354', 'FB331', 'FB331', 'FB331', 'FB331', '', '', '', '', 'FB005', 'FB122', 'FB122', 'FB122', 'FB122', 'FB122', 'FB122', '', '', '', '', '', '', '', '', 'FB039', 'FB039', 'FB039', 'FB039', 'FB039', 'FB039', 'FB018', 'FB018', 'FB018', 'FB018', 'FB018', 'FB104', 'FB017', 'FB017', 'FB017', 'FB046', 'FB363', 'FB363', 'FB363', 'FB122', 'FB122', 'FB354', 'FB017', 'FB017', 'FB017', 'FB345', 'FB345', 'FB345', 'FB122', 'FB122', 'FB122', 'FB302', 'FB302', 'FB302', 'FB363', 'FB363', 'FB363', 'FB046', 'FB095', 'FB095', 'FB095', 'FB122', 'FB122', 'FB354', 'FB312', 'FB312', 'FB312', 'FB094', 'FB094', 'FB094', 'FB354', 'FB354', 'FB354', 'FB122', 'FB122', 'FB122', 'FB210', 'FB210', 'FB210', 'FB312', 'FB312', 'FB017', 'FB017', 'FB017', 'FB046', 'FB122', 'FB122', 'FB074', 'FB074', 'FB030', 'FB030', 'FB030', 'FB208', 'FB208', 'FB208', 'FB003', 'FB003', 'FB007', 'FB007', 'FB007', 'FB017', 'FB017', 'FB017', 'FB345', 'FB008', 'FB008', 'FB345', 'FB345', 'FB008', 'FB122', 'FB122', 'FB122', 'FB363', 'FB363', 'FB363', 'FB302', 'FB302', 'FB302', 'FB046', 'FB095', 'FB095', 'FB095', 'FB122', 'FB122', 'FB305', 'FB305', 'FB305', 'FB354', 'FB122', 'FB122', 'FB122', 'FB122', 'FB210', 'FB312', 'FB312', '', '', '', '', '', '', '', 'FB074', 'FB074', 'FB074', 'FB074', 'FB074', 'FB094', 'FB094', 'FB094', 'FB312', 'FB312', 'FB312', 'FB312', 'FB312', 'FB312', 'FB017', 'FB017', 'FB017', 'FB046', 'FB122', 'FB122', 'FB312', 'FB312', 'FB312', 'FB208', 'FB208', 'FB208', 'FB030', 'FB030', 'FB030', 'FB209', 'FB209', 'FB209', 'FB005', 'FB005', 'FB005', 'FB046', 'FB122', 'FB122', 'FB017', 'FB017', 'FB017', 'FB074', 'FB074', 'FB312', 'FB312', 'FB312', 'FB312', 'FB312', 'FB312', 'FB312', 'FB312', 'FB312', '', '', '', 'FB074', 'FB074', 'FB074', 'FB094', 'FB094', 'FB094', '', '', '', 'FB312', 'FB312', '', '', 'FB095', 'FB095', 'FB095', 'FB095', 'FB095', 'FB345', 'FB345', 'FB345', 'FB345', 'FB345', 'FB008', 'FB008', 'FB008', 'FB122', 'FB122', 'FB122', 'FB122', 'FB122', 'FB122', 'FB122', 'FB122', 'FB122', 'FB122', 'FB095', 'FB095', '', '', '', '', '', '', 'FB305', 'FB305', 'FB354', 'FB209', 'FB209', 'FB209', 'FB083', 'FB363', 'FB363', 'FB363', 'FB354', '', '', '', 'FB022', 'FB022', 'FB022', 'FB195', 'FB195', 'FB195', 'FB354', 'FB354', 'FB354', 'FB004', 'FB004', 'FB004', 'FB017', 'FB017', 'FB017', 'FB312', 'FB312', 'FB312', 'FB052', 'FB052', 'FB052', 'FB122', 'FB122', 'FB122', 'FB076', 'FB076', 'FB076', 'FB081', 'FB081', 'FB081', 'FB083', 'FB083', 'FB083', 'FB209', 'FB209', 'FB209', 'FB363', 'FB363', 'FB363', 'FB022', 'FB022', 'FB022', '', '', '', '', '', '', 'FB001', 'FB302', 'FB003', 'FB006', 'FB008', 'FB023', 'FB307', 'FB026', 'FB313', 'FB303', 'FB116', 'FB319', 'FB208', 'FB326', 'FB052', '', 'FB253', 'FB071', 'FB078', 'FB200', 'FB081', 'FB085', 'FB104', 'FB209', 'FB352', 'FB354', 'FB356', 'FB115', 'FB042', 'FB329', 'FB325', 'FB331', 'FB331', 'FB122', 'FB122', 'FB122', 'FB354', 'FB354', 'FB354', 'FB046', 'FB122', 'FB363', 'FB363', 'FB363', 'FB354', 'FB302', 'FB302', 'FB095', 'FB345', 'FB345', 'FB345', 'FB122', 'FB122', 'FB122', 'FB122', 'FB305', 'FB305', 'FB305', 'FB305', 'FB008', 'FB008', 'FB008', '', '', '', 'FB122', 'FB122', 'FB122', 'FB195', 'FB195', 'FB195', 'FB354', 'FB354', 'FB354', 'FB004', 'FB004', 'FB017', 'FB017', 'FB017', 'FB312', 'FB312', 'FB052', 'FB076', 'FB076', 'FB081', 'FB081', 'FB083', 'FB083', 'FB083', 'FB083', 'FB083', 'FB209', 'FB209', 'FB209', 'FB209', 'FB209', 'FB209', 'FB363', 'FB363', 'FB363', 'FB363', 'FB363', 'FB022', 'FB022', 'FB022', 'FB022', 'FB022', '', '', '', '', '', 'FB074', 'FB074', 'FB363', 'FB363', 'FB363', 'FB354', 'FB354', 'FB302', 'FB302', 'FB302', 'FB302', 'FB095', 'FB095', 'FB095', 'FB345', 'FB345', 'FB345', 'FB345', 'FB122', 'FB122', 'FB305', 'FB305', 'FB008', 'FB008', 'FB008', '', 'FB122', 'FB195', 'FB354', 'FB004', 'FB004', 'FB004', 'FB004', 'FB017', 'FB017', 'FB017', 'FB017', 'FB312', 'FB312', 'FB312', 'FB312', 'FB312', 'FB052', 'FB052', 'FB052', 'FB052', 'FB052', 'FB052', 'FB122', 'FB122', 'FB122', 'FB122', 'FB076', 'FB076', 'FB076', 'FB081', 'FB081', 'FB081', 'FB083', 'FB083', 'FB209', 'FB209', 'FB363', 'FB022', 'FB022', 'FB022', 'FB022', 'FB022', '', '', '', '', '', '', '', 'FB095', 'FB095', 'FB095', 'FB122', 'FB122', 'FB122', '', '', '', 'FB074', 'FB074', 'FB039', 'FB039', 'FB039', 'FB094', 'FB094', 'FB094', 'FB076', 'FB076', 'FB076', 'FB122', 'FB122', 'FB122', '', '', '', 'FB195', 'FB195', 'FB195', 'FB354', 'FB354', 'FB354', 'FB004', 'FB004', 'FB004', 'FB195', 'FB195', 'FB195', 'FB195', 'FB052', 'FB095', 'FB095', 'FB017', 'FB017', 'FB017', 'FB209', 'FB363', 'FB363', 'FB122', 'FB122', 'FB122', 'FB122', 'FB122', 'FB312', '', '', '', 'FB081', '', '', '', 'FB022', 'FB022', 'FB022', 'FB122', 'FB122', 'FB122', 'FB094', 'FB094', 'FB094', 'FB074', 'FB074', 'FB074', 'FB312', 'FB312', 'FB210', 'FB210', '', '', '', '', '', '', '', 'FB074', 'FB074', 'FB354', 'FB354', 'FB354', 'FB074', 'FB074', '', '', '', 'FB074', 'FB074', 'FB039', 'FB039', 'FB039', 'FB094', 'FB094', 'FB094', 'FB076', 'FB076', 'FB076', 'FB122', 'FB122', 'FB122', '', '', '', 'FB195', 'FB195', 'FB195', 'FB354', 'FB354', 'FB354', '', '', '', 'FB074', 'FB074', 'FB039', 'FB039', 'FB039', 'FB094', 'FB094', 'FB094', 'FB076', 'FB076', 'FB076', 'FB122', 'FB122', 'FB122', '', '', '', 'FB195', 'FB195', 'FB195', 'FB046', 'FB354', 'FB354', 'FB354', 'FB094', 'FB094', 'FB094', 'FB195', 'FB195', 'FB195', 'FB354', 'FB354', 'FB354', 'FB004', 'FB004', 'FB004', 'FB004', 'FB004', 'FB017', 'FB017', 'FB017', 'FB017', 'FB017', 'FB017', 'FB312', 'FB312', 'FB312', 'FB312', 'FB312', 'FB312', 'FB052', 'FB052', 'FB052', 'FB052', 'FB052', 'FB052', 'FB122', 'FB122', 'FB122', 'FB122', 'FB122', 'FB122', 'FB076', 'FB076', 'FB076', 'FB076', 'FB076', 'FB076', 'FB081', 'FB081', 'FB081', 'FB081', 'FB081', 'FB081', 'FB083', 'FB083', 'FB083', 'FB083', 'FB083', 'FB083', 'FB209', 'FB209', 'FB209', '', '', '', '', 'FB302', 'FB003', 'FB006', 'FB008', 'FB023', 'FB307', 'FB307', 'FB026', 'FB313', 'FB303', 'FB303', 'FB116', 'FB319', 'FB208', 'FB326', 'FB052', '', 'FB253', 'FB071', 'FB200', 'FB354', 'FB331', 'FB122', 'FB122', 'FB122', 'FB074', 'FB074', '', '', '', '', 'FB122', 'FB076', 'FB094', 'FB039', '', 'FB122', 'FB076', 'FB094', 'FB039', 'FB039', '', 'FB122', 'FB076', 'FB094', 'FB094', 'FB094', 'FB094', 'FB094', 'FB094', 'FB074', 'FB074', 'FB312', 'FB312', '', '', '', '', '', '', 'FB017', 'FB017', 'FB017', 'FB046', 'FB363', 'FB363', 'FB363', 'FB122', 'FB122', 'FB354', 'FB122', 'FB122', 'FB122', 'FB046', 'FB122', 'FB122', 'FB363', 'FB363', 'FB363', 'FB354', 'FB302', 'FB302', 'FB302', 'FB302', 'FB095', 'FB095', 'FB095', 'FB345', 'FB345', 'FB345', 'FB122', 'FB122', 'FB122', 'FB122', 'FB122', 'FB305', 'FB305', 'FB305', 'FB008', 'FB008', '', '', '', 'FB122', 'FB122', 'FB122', 'FB195', 'FB195', 'FB195', 'FB354', 'FB354', 'FB354', 'FB004', 'FB004', 'FB017', 'FB017', 'FB017', 'FB312', 'FB312', 'FB312', 'FB052', 'FB052', 'FB052', 'FB122', 'FB122', 'FB076', 'FB076', 'FB076', 'FB081', 'FB081', 'FB081', 'FB083', 'FB083', 'FB083', 'FB209', 'FB209', 'FB209', 'FB209', 'FB363', 'FB363', 'FB363', 'FB022', 'FB022', 'FB022', '', '', '', '', '', '', '', '', '', 'FB017', 'FB017', 'FB017', 'FB345', 'FB345', 'FB345', 'FB008', 'FB008', 'FB008', 'FB122', 'FB122', 'FB122', 'FB122', 'FB122', 'FB122', 'FB302', 'FB302', 'FB302', 'FB363', 'FB363', 'FB363', 'FB046', 'FB095', 'FB095', 'FB122', 'FB122', 'FB305', 'FB305', 'FB305', 'FB354', '', 'FB122', 'FB122', 'FB122', 'FB122', 'FB122', 'FB363', 'FB363', 'FB363', 'FB302', 'FB302', 'FB302', 'FB095', 'FB095', 'FB122', 'FB122', 'FB122', 'FB122', 'FB122', 'FB122', 'FB305', 'FB305', 'FB305', 'FB305', 'FB004', 'FB004', 'FB004', 'FB195', 'FB195', 'FB195', 'FB354', 'FB354', 'FB354', 'FB052', 'FB052', 'FB052', 'FB122', 'FB122', 'FB122', 'FB122', 'FB122', 'FB017', 'FB017', 'FB017', 'FB209', 'FB209', 'FB209', 'FB083', 'FB083', 'FB083', 'FB083', 'FB083', 'FB363', 'FB363', 'FB363', 'FB312', 'FB312', 'FB312', 'FB312', 'FB081', 'FB081', 'FB081', 'FB354', 'FB076', 'FB076', 'FB076', 'FB076', '', '', 'FB008', 'FB046', 'FB363', 'FB363', 'FB363', 'FB302', 'FB302', 'FB302', 'FB095', 'FB305', 'FB354', 'FB195', 'FB195', 'FB354', 'FB354', 'FB354', 'FB354', 'FB004', 'FB004', 'FB004', 'FB017', 'FB017', 'FB017', 'FB017', 'FB312', 'FB052', 'FB052', 'FB052', 'FB122', 'FB122', 'FB122', 'FB122', 'FB122', 'FB122', 'FB076', 'FB076', 'FB076', 'FB076', 'FB076', 'FB081', 'FB081', 'FB081', 'FB081', 'FB083', 'FB083', 'FB083', 'FB083', 'FB209', 'FB209', 'FB363', 'FB022', '', '', '', '', '', 'FB095', 'FB095', 'FB095', 'FB095', 'FB095', 'FB095', 'FB312', 'FB312', 'FB312', 'FB312', 'FB312', 'FB312', 'FB122', 'FB122', 'FB122', '', '', '', 'FB354', 'FB017', 'FB017', 'FB017', 'FB302', 'FB302', 'FB302', 'FB363', 'FB363', 'FB363', 'FB046', 'FB122', 'FB122', 'FB095', 'FB095', 'FB095', 'FB331', 'FB331', 'FB331', 'FB354', 'FB354', 'FB354', 'FB005', 'FB005', 'FB005', 'FB030', 'FB030', 'FB030', 'FB209', 'FB209', 'FB209', 'FB312', 'FB312', 'FB312', 'FB122', 'FB122', 'FB122', '', '', '', 'FB312', 'FB312', 'FB312', '', '', '', 'FB017', 'FB017', 'FB017', 'FB008', 'FB008', 'FB008', 'FB345', 'FB345', 'FB345', 'FB122', 'FB122', 'FB122', 'FB363', 'FB363', 'FB363', 'FB302', 'FB302', 'FB302', 'FB046', 'FB095', 'FB095', 'FB122', 'FB122', 'FB305', 'FB305', 'FB305', 'FB354', 'FB312', 'FB312', 'FB312', 'FB122', 'FB122', 'FB122', 'FB074', 'FB074', '', '', '', '', 'FB122', 'FB076', 'FB094', 'FB039', '', 'FB122', 'FB076', 'FB094', 'FB039', 'FB039', '', 'FB122', 'FB076', 'FB094', 'FB122', 'FB122', 'FB122', '', '', '', 'FB074', 'FB074', 'FB039', 'FB039', 'FB039', 'FB094', 'FB094', 'FB094', 'FB076', 'FB076', 'FB076', 'FB122', 'FB122', 'FB122', '', '', '', 'FB195', 'FB195', 'FB195', 'FB094', 'FB094', 'FB094', 'FB074', 'FB074', 'FB074', 'FB312', 'FB312', 'FB312', '', '', '', '', '', '', 'FB122', 'FB122', 'FB122', 'FB210', 'FB210', 'FB210', '', '', '', '', '', '', '', '', '', '', '', '', '', '', '', '', '', '', '', '', '', '', '', '', '', '', '', '', '', '', '', '', '', '', '', '', '', '', '', '', '', '', '', '', '', '', '', '', '', '', '', '', '', '', '', '', '', '', '', '', '', '', '', '', '', '', '', '', '', '', '', '', '', '', '', '', '', '', '', '', '', '', '', '', '', '', '', '', '', '', '', '', '', '', '', '', '', '', '', '', '', '', '', '', '', '', '', '', '', '', '', '', '', '', '', '', '', '', '', '', '', '', '', '', '', '', '', '', '', '', '', '', '', '', '', '', '', '', '', '', '', '', '', '', '', '', '', '', '', '', '', '', '', '', '', '', '', '', '', '', '', '', '', '', '', '', '', '', '', '', '', '', '', '', '', '', '', '', '', '', '', '', '', '', '', '', '', '', '', '', '', '', '', '', '', '', '', '', '', '', '', '', '', '', '', '', '', '', '', '', '', '', '', '', '', '', '', '', '', '', '', '', '', 'FB210', 'FB210', 'FB210', 'FB210', 'FB210', 'FB210', 'FB210', 'FB210', 'FB210', 'FB210', 'FB210', 'FB210', 'FB210', 'FB210', 'FB210', 'FB210', 'FB210', 'FB210', 'FB210', 'FB210', 'FB210', 'FB210', 'FB210', 'FB210', 'FB210', 'FB210', 'FB210', 'FB210', 'FB210', 'FB210', 'FB210', 'FB210', 'FB210', 'FB210', 'FB210', 'FB210', 'FB210', 'FB210', 'FB210', 'FB210', 'FB210', 'FB210', 'FB210', 'FB210', 'FB210', 'FB210', 'FB210', 'FB210', 'FB210', 'FB210', 'FB210', 'FB210', 'FB210', 'FB210', 'FB210', 'FB210', 'FB210', 'FB210', 'FB210', 'FB210', 'FB210', 'FB210', 'FB210', 'FB210', 'FB210', 'FB210', 'FB210', 'FB210', 'FB210', 'FB210', 'FB210', 'FB210', 'FB210', 'FB210', 'FB210', 'FB210', 'FB210', 'FB210', 'FB210', 'FB210', 'FB210', 'FB007', 'FB007', 'FB007', 'FB007', 'FB007', 'FB007', 'FB007', 'FB007', 'FB007', 'FB007', 'FB007', 'FB007', 'FB007', 'FB007', 'FB007', 'FB007', 'FB007', 'FB007', 'FB007', 'FB007', 'FB007', 'FB007', 'FB007', 'FB007', 'FB007', 'FB007', 'FB007', 'FB007', 'FB007', 'FB007', 'FB007', 'FB007', 'FB007', 'FB007', 'FB007', 'FB007', 'FB007', 'FB007', 'FB007', 'FB007', 'FB007', 'FB007', 'FB007', 'FB007', 'FB007', 'FB007', 'FB007', 'FB007', 'FB007', 'FB007', 'FB007', 'FB007', 'FB007', 'FB007', 'FB007', 'FB007', 'FB007', 'FB007', 'FB007', 'FB007', 'FB007', 'FB007', 'FB007', 'FB007', 'FB007', 'FB007', 'FB007', 'FB007', 'FB007', 'FB007', 'FB007', 'FB007', 'FB007', 'FB007', 'FB007', 'FB007', 'FB007', 'FB007', 'FB007', 'FB007', 'FB007', 'FB007', 'FB007', 'FB007', 'FB007', 'FB007', 'FB007', 'FB007', 'FB007', 'FB039', 'FB039', 'FB039', 'FB039', 'FB039', 'FB039', 'FB039', 'FB039', 'FB039', 'FB039', 'FB039', 'FB039', 'FB039', 'FB039', 'FB039', 'FB039', 'FB039', 'FB039', 'FB039', 'FB039', 'FB039', 'FB039', 'FB039', 'FB039', 'FB039', 'FB039', 'FB039', 'FB039', 'FB039', 'FB039', 'FB039', 'FB039', 'FB039', 'FB039', 'FB039', 'FB039', 'FB039', 'FB039', 'FB039', 'FB039', 'FB039', 'FB039', 'FB039', 'FB039', 'FB039', 'FB039', 'FB039', 'FB039', 'FB039', 'FB039', 'FB039', 'FB039', 'FB039', 'FB039', 'FB039', 'FB039', 'FB039', 'FB039', 'FB039', 'FB039', 'FB039', 'FB039', 'FB039', 'FB039', 'FB039', 'FB039', 'FB039', 'FB039', 'FB039', 'FB039', 'FB039', 'FB039', 'FB039', 'FB039', 'FB039', 'FB018', 'FB018', 'FB018', 'FB018', 'FB018', 'FB018', 'FB018', 'FB018', 'FB018', 'FB018', 'FB018', 'FB018', 'FB018', 'FB018', 'FB018', 'FB018', 'FB018', 'FB018', 'FB018', 'FB018', 'FB018', 'FB018', 'FB018', 'FB018', 'FB018', 'FB018', 'FB018', 'FB018', 'FB018', 'FB018', 'FB018', 'FB018', 'FB018', 'FB018', 'FB018', 'FB018', 'FB018', 'FB018', 'FB018', 'FB018', 'FB018', 'FB018', 'FB018', 'FB018', 'FB018', 'FB018', 'FB018', 'FB018', 'FB018', 'FB018', 'FB018', 'FB018', 'FB018', 'FB018', 'FB018', 'FB018', 'FB018', 'FB018', 'FB018', 'FB018', 'FB018', 'FB018', 'FB018', 'FB018', 'FB018', 'FB018', 'FB018', 'FB018', 'FB018', 'FB018', 'FB018', 'FB018', 'FB018', 'FB018', '', '', '', '', '', '', '', '', '', '', '', '', '', '', '', '', '', '', '', '', '', '', '', '', '', '', '', '', '', '', '', '', '', '', '', '', '', '', '', '', '', '', '', '', '', '', '', '', '', '', '', '', '', '', '', '', '', '', '', '', '', '', '', '', '', '', '', '', '', '', '', '', '', '', '', '', '', 'FB074', 'FB074', 'FB074', 'FB074', 'FB074', 'FB074', 'FB074', 'FB074', 'FB074', 'FB074', 'FB074', 'FB074', 'FB074', 'FB074', 'FB074', 'FB074', 'FB074', 'FB074', 'FB074', 'FB074', 'FB074', 'FB074', 'FB074', 'FB074', 'FB074', 'FB074', 'FB074', 'FB074', 'FB074', 'FB074', 'FB074', 'FB074', 'FB074', 'FB074', 'FB074', 'FB074', 'FB074', 'FB074', 'FB074', 'FB074', 'FB074', 'FB074', 'FB074', 'FB074', 'FB074', 'FB074', 'FB074', 'FB074', 'FB074', 'FB074', 'FB074', 'FB074', 'FB074', 'FB074', 'FB074', 'FB074', 'FB074', 'FB074', 'FB074', 'FB074', 'FB074', 'FB074', 'FB074', 'FB074', 'FB074', 'FB074', 'FB034', 'FB034', 'FB034', 'FB034', 'FB034', 'FB034', 'FB034', 'FB034', 'FB034', 'FB034', 'FB034', 'FB034', 'FB034', 'FB034', 'FB034', 'FB034', 'FB034', 'FB034', 'FB034', 'FB034', 'FB034', 'FB034', 'FB034', 'FB034', 'FB034', 'FB034', 'FB034', 'FB034', 'FB034', 'FB034', 'FB034', 'FB034', 'FB034', 'FB034', 'FB034', 'FB034', 'FB034', 'FB034', 'FB034', 'FB034', 'FB034', 'FB034', 'FB034', 'FB034', 'FB034', 'FB034', 'FB034', 'FB034', 'FB034', 'FB034', 'FB034', 'FB034', 'FB034', 'FB034', 'FB034', 'FB034', 'FB034', 'FB034', 'FB034', 'FB034', 'FB034', 'FB034', 'FB034', 'FB034', 'FB034', 'FB034', 'FB034', 'FB034', 'FB034', 'FB034', 'FB034', 'FB034', 'FB034', 'FB034', 'FB034', 'FB034', 'FB034', 'FB034', 'FB034', 'FB034', 'FB034', 'FB034', 'FB034', 'FB034', 'FB034', 'FB034', 'FB034', 'FB034', 'FB034', 'FB034', 'FB034', 'FB034', 'FB034', 'FB034', 'FB034', 'FB034', 'FB034', 'FB034', 'FB034', 'FB034', 'FB034', 'FB034', 'FB034', 'FB034', 'FB034', 'FB034', 'FB034', 'FB034', 'FB034', 'FB034', 'FB034', 'FB034', 'FB034', 'FB034', 'FB034', 'FB034', 'FB034', 'FB034', 'FB034', 'FB034', 'FB034', 'FB034', 'FB034', 'FB034', 'FB034', 'FB034', 'FB034', 'FB034', 'FB034', 'FB034', 'FB034', 'FB034', 'FB034', 'FB034', 'FB034', 'FB034', 'FB034', 'FB034', 'FB034', 'FB034', 'FB034', 'FB034', 'FB034', 'FB034', 'FB034', 'FB034', 'FB034', 'FB034', 'FB034', 'FB034', 'FB034', 'FB034', 'FB034', 'FB034', 'FB034', 'FB034', 'FB034', 'FB034', 'FB034', 'FB034', 'FB034', 'FB034', 'FB034', 'FB034', 'FB034', 'FB034', 'FB034', 'FB034', 'FB034', 'FB034', '', '', '', '', '', '', '', '', '', '', '', '', '', '', '', '', '', '', '', '', '', '', '', '', '', '', '', '', '', '', '', '', '', '', '', '', '', '', '', '', '', '', '', '', '', '', '', '', '', '', '', '', '', '', '', '', '', '', '', '', '', '', '', '', '', '', '', '', '', '', '', '', '', '', '', '', '', '', '', '', '', 'FB046', 'FB046', 'FB046', 'FB046', 'FB046', 'FB046', 'FB046', 'FB046', 'FB046', 'FB046', 'FB046', 'FB046', 'FB046', 'FB046', 'FB046', 'FB046', 'FB046', 'FB046', 'FB046', 'FB046', 'FB046', 'FB046', 'FB046', 'FB046', 'FB046', 'FB046', 'FB046', 'FB046', 'FB046', 'FB046', 'FB046', 'FB046', 'FB046', 'FB046', 'FB046', 'FB046', 'FB046', 'FB046', 'FB046', 'FB046', 'FB210', 'FB210', 'FB210', 'FB210', 'FB210', 'FB210', 'FB210', 'FB210', 'FB210', 'FB210', 'FB210', 'FB210', 'FB210', 'FB210', 'FB210', 'FB210', 'FB210', 'FB210', 'FB210', 'FB210', 'FB210', 'FB210', 'FB210', 'FB210', 'FB210', 'FB210', 'FB210', 'FB210', 'FB210', 'FB210', 'FB210', 'FB210', 'FB210', 'FB210', 'FB210', 'FB210', 'FB210', 'FB210', 'FB210', 'FB210', 'FB210', 'FB210', 'FB210', 'FB210', 'FB210', 'FB210', 'FB210', 'FB210', 'FB210', 'FB210', 'FB210', 'FB210', 'FB210', 'FB210', 'FB210', 'FB210', 'FB210', 'FB210', 'FB313', 'FB313', 'FB313', 'FB313', 'FB313', 'FB313', 'FB313', 'FB313', 'FB313', 'FB313', 'FB313', 'FB313', 'FB313', 'FB313', 'FB313', 'FB313', 'FB313', 'FB313', 'FB313', 'FB313', 'FB313', 'FB313', 'FB313', 'FB313', 'FB313', 'FB313', 'FB313', 'FB313', 'FB313', 'FB313', 'FB313', 'FB313', 'FB313', 'FB313', 'FB313', 'FB313', 'FB313', 'FB313', 'FB313', 'FB313', 'FB313', 'FB313', 'FB313', 'FB313', 'FB313', 'FB313', 'FB313', 'FB313', 'FB313', 'FB313', 'FB313', 'FB313', 'FB313', 'FB313', 'FB313', 'FB313', 'FB313', 'FB313', 'FB313', 'FB313', 'FB313', 'FB313', 'FB313', 'FB313', 'FB313', 'FB313', 'FB313', 'FB313', 'FB313', 'FB313', 'FB313', 'FB313', 'FB313', 'FB313', 'FB313', 'FB313', 'FB313', 'FB313', 'FB313', 'FB313', 'FB313', 'FB313', 'FB313', 'FB313', 'FB313', 'FB313', 'FB313', 'FB313', 'FB313', 'FB313', 'FB122', 'FB122', 'FB122', 'FB122', 'FB122', 'FB122', 'FB122', 'FB122', 'FB122', 'FB122', 'FB122', 'FB122', 'FB122', 'FB122', 'FB122', 'FB122', 'FB122', 'FB122', 'FB122', 'FB122', 'FB122', 'FB319', 'FB319', 'FB319', 'FB319', 'FB319', 'FB319', 'FB319', 'FB319', 'FB319', 'FB319', 'FB319', 'FB319', 'FB319', 'FB319', 'FB319', 'FB319', 'FB319', 'FB319', 'FB319', 'FB319', 'FB319', 'FB319', 'FB319', 'FB319', 'FB319', 'FB319', 'FB319', 'FB319', 'FB319', 'FB319', 'FB319', 'FB319', 'FB319', 'FB319', 'FB319', 'FB319', 'FB319', 'FB319', 'FB319', 'FB319', 'FB319', 'FB319', 'FB319', 'FB319', 'FB319', 'FB319', 'FB319', 'FB319', 'FB319', 'FB319', 'FB319', 'FB319', 'FB319', 'FB319', 'FB319', 'FB319', 'FB319', 'FB319', 'FB319', 'FB319', 'FB319', 'FB208', 'FB208', 'FB208', 'FB208', 'FB208', 'FB208', 'FB208', 'FB208', 'FB208', 'FB208', 'FB208', 'FB208', 'FB208', 'FB208', 'FB208', 'FB208', 'FB208', 'FB208', 'FB208', 'FB208', 'FB208', 'FB208', 'FB208', 'FB208', 'FB208', 'FB208', 'FB208', 'FB208', 'FB208', 'FB208', 'FB208', 'FB208', 'FB208', 'FB208', 'FB208', 'FB208', 'FB208', 'FB208', 'FB208', 'FB208', 'FB208', 'FB208', 'FB208', 'FB208', 'FB208', 'FB208', 'FB208', 'FB208', 'FB208', 'FB208', 'FB208', 'FB208', 'FB208', 'FB208', 'FB208', 'FB208', 'FB208', 'FB208', 'FB208', 'FB208', 'FB208', 'FB208', 'FB208', 'FB208', 'FB208', 'FB208', 'FB208', 'FB208', 'FB208', 'FB208', 'FB208', 'FB208', 'FB208', 'FB208', 'FB208', 'FB208', 'FB208', 'FB208', 'FB208', 'FB208', 'FB208', 'FB208', 'FB208', 'FB208', 'FB208', 'FB208', 'FB208', 'FB208', 'FB208', 'FB208', 'FB208', 'FB208', 'FB208', 'FB208', 'FB208', 'FB208', 'FB208', 'FB208', 'FB208', 'FB208', 'FB208', 'FB208', 'FB208', 'FB208', 'FB208', 'FB208', 'FB208', 'FB208', 'FB208', 'FB208', 'FB208', 'FB208', 'FB208', 'FB208', 'FB208', 'FB208', 'FB208', 'FB208', 'FB208', 'FB208', 'FB208', 'FB208', 'FB208', 'FB208', 'FB208', 'FB208', 'FB208', 'FB208', 'FB208', 'FB208', 'FB208', 'FB208', 'FB208', '', '', '', '', '', '', '', '', '', '', '', '', '', '', '', '', '', '', '', '', '', '', '', '', '', '', '', '', '', '', '', '', '', '', '', '', '', '', '', '', '', '', '', '', '', '', '', '', '', '', '', '', '', '', '', '', '', '', '', '', '', '', '', '', '', '', '', '', '', '', '', '', '', '', '', '', '', '', '', '', '', '', '', '', '', '', '', '', '', '', '', '', '', '', '', '', '', '', '', '', '', '', '', '', '', '', '', '', '', '', '', '', '', '', '', '', '', '', '', '', '', '', '', '', '', '', '', '', '', '', '', '', '', '', '', '', '', '', '', '', '', '', '', '', '', '', '', '', '', '', '', '', '', '', '', '', '', '', '', '', '', '', '', '', '', '', '', 'FB354', 'FB354', 'FB354', 'FB354', 'FB354', 'FB354', 'FB354', 'FB354', 'FB354', 'FB354', 'FB354', 'FB354', 'FB354', 'FB354', 'FB354', 'FB354', 'FB354', 'FB354', 'FB354', 'FB354', 'FB354', 'FB354', 'FB354', 'FB354', 'FB354', 'FB354', 'FB354', 'FB354', 'FB354', 'FB354', 'FB354', 'FB354', 'FB354', 'FB354', 'FB354', 'FB354', 'FB354', 'FB354', 'FB354', 'FB008', 'FB008', 'FB008', 'FB008', 'FB008', 'FB008', 'FB008', 'FB008', 'FB008', 'FB008', 'FB008', 'FB008', 'FB008', 'FB008', 'FB008', 'FB008', 'FB008', 'FB008', 'FB008', 'FB008', 'FB008', 'FB008', 'FB008', 'FB008', 'FB008', 'FB008', 'FB008', 'FB008', 'FB008', 'FB008', 'FB008', 'FB008', 'FB008', 'FB008', 'FB008', 'FB008', 'FB008', 'FB008', 'FB008', 'FB008', 'FB008', 'FB008', 'FB008', 'FB008', 'FB008', 'FB008', 'FB008', 'FB008', 'FB008', 'FB008', 'FB008', 'FB008', 'FB008', 'FB008', 'FB008', 'FB008', 'FB008', 'FB008', 'FB008', 'FB008', 'FB008', 'FB008', 'FB008', 'FB008', 'FB008', 'FB008', 'FB008', 'FB008', 'FB008', 'FB008', 'FB008', 'FB008', 'FB008', 'FB008', 'FB008', 'FB008', 'FB008', 'FB008', 'FB008', 'FB008', 'FB008', 'FB008', 'FB008', 'FB008', 'FB008', 'FB008', 'FB008', 'FB008', 'FB008', 'FB008', 'FB008', 'FB008', 'FB008', 'FB008', 'FB008', 'FB008', 'FB008', 'FB008', 'FB008', 'FB008', 'FB008', 'FB008', 'FB008', 'FB008', 'FB008', 'FB008', 'FB008', 'FB008', 'FB008', 'FB008', 'FB008', 'FB008', 'FB008', 'FB008', 'FB008', 'FB008', 'FB008', 'FB008', 'FB008', 'FB008', 'FB008', 'FB008', 'FB008', 'FB008', 'FB008', 'FB008', 'FB008', 'FB008', 'FB008', 'FB008', 'FB008', 'FB008', 'FB008', 'FB008', 'FB008', 'FB008', 'FB008', 'FB008', 'FB008', 'FB008', 'FB008', 'FB008', 'FB008', 'FB312', 'FB312', 'FB312', 'FB312', 'FB312', 'FB312', 'FB312', 'FB312', 'FB312', 'FB312', 'FB312', 'FB312', 'FB312', 'FB312', 'FB312', 'FB312', 'FB312', 'FB312', 'FB312', 'FB030', 'FB030', 'FB030', 'FB030', 'FB030', 'FB030', 'FB030', 'FB030', 'FB030', 'FB030', 'FB030', 'FB030', 'FB030', 'FB030', 'FB030', 'FB030', 'FB030', 'FB030', 'FB030', 'FB030', 'FB030', 'FB030', 'FB030', 'FB030', 'FB030', 'FB030', 'FB030', 'FB030', 'FB030', 'FB030', 'FB030', 'FB030', 'FB030', 'FB030', 'FB030', 'FB030', 'FB030', 'FB030', 'FB030', 'FB030', 'FB030', 'FB030', 'FB030', 'FB030', 'FB030', 'FB030', 'FB030', 'FB030', 'FB030', 'FB030', 'FB030', 'FB030', 'FB030', 'FB030', 'FB030', 'FB030', 'FB030', 'FB017', 'FB017', 'FB017', 'FB017', 'FB017', 'FB017', 'FB017', 'FB017', 'FB017', 'FB017', 'FB017', 'FB017', 'FB017', 'FB017', 'FB017', 'FB017', 'FB017', 'FB017', 'FB017', 'FB017', 'FB017', 'FB017', 'FB017', 'FB017', 'FB017', 'FB017', 'FB017', 'FB017', 'FB017', 'FB017', 'FB017', 'FB017', 'FB017', 'FB017', 'FB017', 'FB017', 'FB017', 'FB017', 'FB017', 'FB017', 'FB017', 'FB017', 'FB017', 'FB017', 'FB017', 'FB017', 'FB017', 'FB017', 'FB017', 'FB017', 'FB017', 'FB017', 'FB017', 'FB017', 'FB017', 'FB017', 'FB017', 'FB017', 'FB017', 'FB017', 'FB017', 'FB017', 'FB017', 'FB017', 'FB017', 'FB017', 'FB017', 'FB017', 'FB017', 'FB017', 'FB017', 'FB017', 'FB017', 'FB017', 'FB046', 'FB046', 'FB046', 'FB046', 'FB046', 'FB046', 'FB046', 'FB046', 'FB046', 'FB046', 'FB046', 'FB046', 'FB046', 'FB046', 'FB046', 'FB046', 'FB046', 'FB046', 'FB046', 'FB046', 'FB046', 'FB046', 'FB046', 'FB046', 'FB046', 'FB046', 'FB046', 'FB046', 'FB046', 'FB046', 'FB046', 'FB046', 'FB046', 'FB046', 'FB046', 'FB046', 'FB046', 'FB046', 'FB046', 'FB046', 'FB046', 'FB046', 'FB046', 'FB046', 'FB046', 'FB046', 'FB046', 'FB046', 'FB046', 'FB046', 'FB046', 'FB046', 'FB046', 'FB046', 'FB046', 'FB046', 'FB046', 'FB046', 'FB046', 'FB046', 'FB046', 'FB046', 'FB046', 'FB046', 'FB046', 'FB046', 'FB046', 'FB046', 'FB046', 'FB046', 'FB046', 'FB046', 'FB046', 'FB046', 'FB046', 'FB046', 'FB046', 'FB046', 'FB046', 'FB046', 'FB046', 'FB046', 'FB046', 'FB046', 'FB046', 'FB046', 'FB046', 'FB046', 'FB046', 'FB039', 'FB039', 'FB039', 'FB039', 'FB039', 'FB039', 'FB039', 'FB039', 'FB039', 'FB039', 'FB039', 'FB039', 'FB039', 'FB039', 'FB039', 'FB039', 'FB039', 'FB039', 'FB039', 'FB039', 'FB039', 'FB039', 'FB039', 'FB039', 'FB039', 'FB039', 'FB039', 'FB039', 'FB039', 'FB039', 'FB039', 'FB039', 'FB039', 'FB039', 'FB039', 'FB039', 'FB039', 'FB039', 'FB039', 'FB039', 'FB039', 'FB039', 'FB039', 'FB039', 'FB039', 'FB039', 'FB039', 'FB039', 'FB039', 'FB039', 'FB039', 'FB039', 'FB039', 'FB039', 'FB039', 'FB039', 'FB039', 'FB039', 'FB039', 'FB039', 'FB039', 'FB039', 'FB039', 'FB039', 'FB039', 'FB039', 'FB039', 'FB039', 'FB039', 'FB039', 'FB039', 'FB039', 'FB039', 'FB039', 'FB039', 'FB039', 'FB039', 'FB039', 'FB039', 'FB039', 'FB039', 'FB039', 'FB039', 'FB039', 'FB039', 'FB039', 'FB039', 'FB039', 'FB039', 'FB039']\n"
          ],
          "name": "stdout"
        }
      ]
    },
    {
      "metadata": {
        "id": "dv_KAlZrWoQx",
        "colab_type": "code",
        "colab": {
          "base_uri": "https://localhost:8080/",
          "height": 204
        },
        "outputId": "25235883-9550-47c4-d90a-a20cdf3ee15b"
      },
      "cell_type": "code",
      "source": [
        "fb.head()"
      ],
      "execution_count": 169,
      "outputs": [
        {
          "output_type": "execute_result",
          "data": {
            "text/html": [
              "<div>\n",
              "<style scoped>\n",
              "    .dataframe tbody tr th:only-of-type {\n",
              "        vertical-align: middle;\n",
              "    }\n",
              "\n",
              "    .dataframe tbody tr th {\n",
              "        vertical-align: top;\n",
              "    }\n",
              "\n",
              "    .dataframe thead th {\n",
              "        text-align: right;\n",
              "    }\n",
              "</style>\n",
              "<table border=\"1\" class=\"dataframe\">\n",
              "  <thead>\n",
              "    <tr style=\"text-align: right;\">\n",
              "      <th></th>\n",
              "      <th>date</th>\n",
              "      <th>campaign_id</th>\n",
              "      <th>campaign_name</th>\n",
              "      <th>adset_id</th>\n",
              "      <th>adset_name</th>\n",
              "      <th>ad_id</th>\n",
              "      <th>ad_name</th>\n",
              "      <th>impressions</th>\n",
              "      <th>clicks</th>\n",
              "      <th>spend</th>\n",
              "    </tr>\n",
              "  </thead>\n",
              "  <tbody>\n",
              "    <tr>\n",
              "      <th>0</th>\n",
              "      <td>2018-12-04</td>\n",
              "      <td>6112422216761</td>\n",
              "      <td>20181223-FB-BOOST-EVENT-CC Hérouville - Père Noel</td>\n",
              "      <td>6112422215961</td>\n",
              "      <td>Visiteurs_CRM_Lookalike</td>\n",
              "      <td>6112422215761</td>\n",
              "      <td>VPV - Père Noel</td>\n",
              "      <td>6786</td>\n",
              "      <td>67</td>\n",
              "      <td>29.09</td>\n",
              "    </tr>\n",
              "    <tr>\n",
              "      <th>1</th>\n",
              "      <td>2018-12-04</td>\n",
              "      <td>6112510817761</td>\n",
              "      <td>20181224-FB-BOOST-BOUTIQUE-CC Lescar - Bijoux ...</td>\n",
              "      <td>6112510818161</td>\n",
              "      <td>Visiteurs_CRM_Lookalike</td>\n",
              "      <td>6112510817961</td>\n",
              "      <td>VPV - Bijoux Cailloux</td>\n",
              "      <td>599</td>\n",
              "      <td>4</td>\n",
              "      <td>3.66</td>\n",
              "    </tr>\n",
              "    <tr>\n",
              "      <th>2</th>\n",
              "      <td>2018-12-04</td>\n",
              "      <td>6112510817761</td>\n",
              "      <td>20181224-FB-BOOST-BOUTIQUE-CC Lescar - Bijoux ...</td>\n",
              "      <td>6112510818561</td>\n",
              "      <td>Friends_of_Fans</td>\n",
              "      <td>6112510818961</td>\n",
              "      <td>VPV - Bijoux Cailloux</td>\n",
              "      <td>311</td>\n",
              "      <td>10</td>\n",
              "      <td>3.64</td>\n",
              "    </tr>\n",
              "    <tr>\n",
              "      <th>3</th>\n",
              "      <td>2019-01-13</td>\n",
              "      <td>6115098721361</td>\n",
              "      <td>20190126-FB-OPESPE-SOLDESHIV-CC Cap Saran - 17...</td>\n",
              "      <td>6115098720961</td>\n",
              "      <td>Visiteurs_CRM_Lookalike</td>\n",
              "      <td>6115098721161</td>\n",
              "      <td>VPV - Soldes Hiver</td>\n",
              "      <td>4049</td>\n",
              "      <td>31</td>\n",
              "      <td>10.18</td>\n",
              "    </tr>\n",
              "    <tr>\n",
              "      <th>4</th>\n",
              "      <td>2019-01-13</td>\n",
              "      <td>6115020922561</td>\n",
              "      <td>20190112-FB-OPESPE-SOLDESHIV-CC Chambourcy - 3...</td>\n",
              "      <td>6115020922761</td>\n",
              "      <td>Visiteurs_CRM_Lookalike</td>\n",
              "      <td>6115020922961</td>\n",
              "      <td>VPV - Soldes Chambourcy</td>\n",
              "      <td>4232</td>\n",
              "      <td>35</td>\n",
              "      <td>29.78</td>\n",
              "    </tr>\n",
              "  </tbody>\n",
              "</table>\n",
              "</div>"
            ],
            "text/plain": [
              "         date    campaign_id  \\\n",
              "0  2018-12-04  6112422216761   \n",
              "1  2018-12-04  6112510817761   \n",
              "2  2018-12-04  6112510817761   \n",
              "3  2019-01-13  6115098721361   \n",
              "4  2019-01-13  6115020922561   \n",
              "\n",
              "                                       campaign_name       adset_id  \\\n",
              "0  20181223-FB-BOOST-EVENT-CC Hérouville - Père Noel  6112422215961   \n",
              "1  20181224-FB-BOOST-BOUTIQUE-CC Lescar - Bijoux ...  6112510818161   \n",
              "2  20181224-FB-BOOST-BOUTIQUE-CC Lescar - Bijoux ...  6112510818561   \n",
              "3  20190126-FB-OPESPE-SOLDESHIV-CC Cap Saran - 17...  6115098720961   \n",
              "4  20190112-FB-OPESPE-SOLDESHIV-CC Chambourcy - 3...  6115020922761   \n",
              "\n",
              "                adset_name          ad_id                  ad_name  \\\n",
              "0  Visiteurs_CRM_Lookalike  6112422215761          VPV - Père Noel   \n",
              "1  Visiteurs_CRM_Lookalike  6112510817961    VPV - Bijoux Cailloux   \n",
              "2          Friends_of_Fans  6112510818961    VPV - Bijoux Cailloux   \n",
              "3  Visiteurs_CRM_Lookalike  6115098721161       VPV - Soldes Hiver   \n",
              "4  Visiteurs_CRM_Lookalike  6115020922961  VPV - Soldes Chambourcy   \n",
              "\n",
              "  impressions clicks  spend  \n",
              "0        6786     67  29.09  \n",
              "1         599      4   3.66  \n",
              "2         311     10   3.64  \n",
              "3        4049     31  10.18  \n",
              "4        4232     35  29.78  "
            ]
          },
          "metadata": {
            "tags": []
          },
          "execution_count": 169
        }
      ]
    },
    {
      "metadata": {
        "id": "wXfhq4EFWoS7",
        "colab_type": "code",
        "colab": {}
      },
      "cell_type": "code",
      "source": [
        "fb['NOM_ENSEBMLE']=NOM_ENS"
      ],
      "execution_count": 0,
      "outputs": []
    },
    {
      "metadata": {
        "id": "Xgwm_5wEY-m_",
        "colab_type": "code",
        "colab": {}
      },
      "cell_type": "code",
      "source": [
        "fb['CODE_ENSEMBLE_IMMO']=codes_to_add"
      ],
      "execution_count": 0,
      "outputs": []
    },
    {
      "metadata": {
        "id": "BGyGheZUWoVT",
        "colab_type": "code",
        "colab": {
          "base_uri": "https://localhost:8080/",
          "height": 204
        },
        "outputId": "62ef0468-f4da-4e1a-cd2a-251bb6864fac"
      },
      "cell_type": "code",
      "source": [
        "fb.head()"
      ],
      "execution_count": 172,
      "outputs": [
        {
          "output_type": "execute_result",
          "data": {
            "text/html": [
              "<div>\n",
              "<style scoped>\n",
              "    .dataframe tbody tr th:only-of-type {\n",
              "        vertical-align: middle;\n",
              "    }\n",
              "\n",
              "    .dataframe tbody tr th {\n",
              "        vertical-align: top;\n",
              "    }\n",
              "\n",
              "    .dataframe thead th {\n",
              "        text-align: right;\n",
              "    }\n",
              "</style>\n",
              "<table border=\"1\" class=\"dataframe\">\n",
              "  <thead>\n",
              "    <tr style=\"text-align: right;\">\n",
              "      <th></th>\n",
              "      <th>date</th>\n",
              "      <th>campaign_id</th>\n",
              "      <th>campaign_name</th>\n",
              "      <th>adset_id</th>\n",
              "      <th>adset_name</th>\n",
              "      <th>ad_id</th>\n",
              "      <th>ad_name</th>\n",
              "      <th>impressions</th>\n",
              "      <th>clicks</th>\n",
              "      <th>spend</th>\n",
              "      <th>NOM_ENSEBMLE</th>\n",
              "      <th>CODE_ENSEMBLE_IMMO</th>\n",
              "    </tr>\n",
              "  </thead>\n",
              "  <tbody>\n",
              "    <tr>\n",
              "      <th>0</th>\n",
              "      <td>2018-12-04</td>\n",
              "      <td>6112422216761</td>\n",
              "      <td>20181223-FB-BOOST-EVENT-CC Hérouville - Père Noel</td>\n",
              "      <td>6112422215961</td>\n",
              "      <td>Visiteurs_CRM_Lookalike</td>\n",
              "      <td>6112422215761</td>\n",
              "      <td>VPV - Père Noel</td>\n",
              "      <td>6786</td>\n",
              "      <td>67</td>\n",
              "      <td>29.09</td>\n",
              "      <td>HEROUVILLE ST CLAIR</td>\n",
              "      <td>FB046</td>\n",
              "    </tr>\n",
              "    <tr>\n",
              "      <th>1</th>\n",
              "      <td>2018-12-04</td>\n",
              "      <td>6112510817761</td>\n",
              "      <td>20181224-FB-BOOST-BOUTIQUE-CC Lescar - Bijoux ...</td>\n",
              "      <td>6112510818161</td>\n",
              "      <td>Visiteurs_CRM_Lookalike</td>\n",
              "      <td>6112510817961</td>\n",
              "      <td>VPV - Bijoux Cailloux</td>\n",
              "      <td>599</td>\n",
              "      <td>4</td>\n",
              "      <td>3.66</td>\n",
              "      <td>LESCAR GM</td>\n",
              "      <td>FB122</td>\n",
              "    </tr>\n",
              "    <tr>\n",
              "      <th>2</th>\n",
              "      <td>2018-12-04</td>\n",
              "      <td>6112510817761</td>\n",
              "      <td>20181224-FB-BOOST-BOUTIQUE-CC Lescar - Bijoux ...</td>\n",
              "      <td>6112510818561</td>\n",
              "      <td>Friends_of_Fans</td>\n",
              "      <td>6112510818961</td>\n",
              "      <td>VPV - Bijoux Cailloux</td>\n",
              "      <td>311</td>\n",
              "      <td>10</td>\n",
              "      <td>3.64</td>\n",
              "      <td>LESCAR GM</td>\n",
              "      <td>FB122</td>\n",
              "    </tr>\n",
              "    <tr>\n",
              "      <th>3</th>\n",
              "      <td>2019-01-13</td>\n",
              "      <td>6115098721361</td>\n",
              "      <td>20190126-FB-OPESPE-SOLDESHIV-CC Cap Saran - 17...</td>\n",
              "      <td>6115098720961</td>\n",
              "      <td>Visiteurs_CRM_Lookalike</td>\n",
              "      <td>6115098721161</td>\n",
              "      <td>VPV - Soldes Hiver</td>\n",
              "      <td>4049</td>\n",
              "      <td>31</td>\n",
              "      <td>10.18</td>\n",
              "      <td>SARAN</td>\n",
              "      <td>FB094</td>\n",
              "    </tr>\n",
              "    <tr>\n",
              "      <th>4</th>\n",
              "      <td>2019-01-13</td>\n",
              "      <td>6115020922561</td>\n",
              "      <td>20190112-FB-OPESPE-SOLDESHIV-CC Chambourcy - 3...</td>\n",
              "      <td>6115020922761</td>\n",
              "      <td>Visiteurs_CRM_Lookalike</td>\n",
              "      <td>6115020922961</td>\n",
              "      <td>VPV - Soldes Chambourcy</td>\n",
              "      <td>4232</td>\n",
              "      <td>35</td>\n",
              "      <td>29.78</td>\n",
              "      <td>CHAMBOURCY</td>\n",
              "      <td>FB312</td>\n",
              "    </tr>\n",
              "  </tbody>\n",
              "</table>\n",
              "</div>"
            ],
            "text/plain": [
              "         date    campaign_id  \\\n",
              "0  2018-12-04  6112422216761   \n",
              "1  2018-12-04  6112510817761   \n",
              "2  2018-12-04  6112510817761   \n",
              "3  2019-01-13  6115098721361   \n",
              "4  2019-01-13  6115020922561   \n",
              "\n",
              "                                       campaign_name       adset_id  \\\n",
              "0  20181223-FB-BOOST-EVENT-CC Hérouville - Père Noel  6112422215961   \n",
              "1  20181224-FB-BOOST-BOUTIQUE-CC Lescar - Bijoux ...  6112510818161   \n",
              "2  20181224-FB-BOOST-BOUTIQUE-CC Lescar - Bijoux ...  6112510818561   \n",
              "3  20190126-FB-OPESPE-SOLDESHIV-CC Cap Saran - 17...  6115098720961   \n",
              "4  20190112-FB-OPESPE-SOLDESHIV-CC Chambourcy - 3...  6115020922761   \n",
              "\n",
              "                adset_name          ad_id                  ad_name  \\\n",
              "0  Visiteurs_CRM_Lookalike  6112422215761          VPV - Père Noel   \n",
              "1  Visiteurs_CRM_Lookalike  6112510817961    VPV - Bijoux Cailloux   \n",
              "2          Friends_of_Fans  6112510818961    VPV - Bijoux Cailloux   \n",
              "3  Visiteurs_CRM_Lookalike  6115098721161       VPV - Soldes Hiver   \n",
              "4  Visiteurs_CRM_Lookalike  6115020922961  VPV - Soldes Chambourcy   \n",
              "\n",
              "  impressions clicks  spend         NOM_ENSEBMLE CODE_ENSEMBLE_IMMO  \n",
              "0        6786     67  29.09  HEROUVILLE ST CLAIR              FB046  \n",
              "1         599      4   3.66            LESCAR GM              FB122  \n",
              "2         311     10   3.64            LESCAR GM              FB122  \n",
              "3        4049     31  10.18                SARAN              FB094  \n",
              "4        4232     35  29.78           CHAMBOURCY              FB312  "
            ]
          },
          "metadata": {
            "tags": []
          },
          "execution_count": 172
        }
      ]
    },
    {
      "metadata": {
        "id": "hzenQ7SiZNEI",
        "colab_type": "code",
        "colab": {}
      },
      "cell_type": "code",
      "source": [
        "fb.to_json('fb_data_codes.json', orient = 'table')"
      ],
      "execution_count": 0,
      "outputs": []
    },
    {
      "metadata": {
        "id": "3gAwZ4rnZsRw",
        "colab_type": "code",
        "colab": {}
      },
      "cell_type": "code",
      "source": [
        "files.download(\"fb_data_codes.json\")"
      ],
      "execution_count": 0,
      "outputs": []
    },
    {
      "metadata": {
        "id": "tkQI4MtCxaZf",
        "colab_type": "code",
        "colab": {}
      },
      "cell_type": "code",
      "source": [
        "\"\"\"for campaign_name in campaign_names:\n",
        "  if campaign_name in center_name_correspondance.keys():\n",
        "     nom_ens.append(center_name_correspondance[center_name])\"\"\""
      ],
      "execution_count": 0,
      "outputs": []
    },
    {
      "metadata": {
        "id": "18ZfnELI1kkO",
        "colab_type": "text"
      },
      "cell_type": "markdown",
      "source": [
        "for i in range(len(campaign_names)):\n",
        "  for center_name in center_name_correspondance.keys():\n",
        "    if campaign_names[i].find(center_name) >= 0:\n",
        "      nom_ens.append(center_name_correspondance[center_name])\n",
        "      break"
      ]
    },
    {
      "metadata": {
        "id": "jxI9VXE7E0Ow",
        "colab_type": "text"
      },
      "cell_type": "markdown",
      "source": [
        "K=0\n",
        "for i in fb.campaign_name:\n",
        "   for center_name in center_name_correspondance.keys():\n",
        "    if i.find(center_name) >= 0:\n",
        "      print(center_name_correspondance[center_name])\n",
        "      print(K)\n",
        "      K=K+1\n",
        "      \n",
        "      #doesnt work LOL !\n",
        "  "
      ]
    }
  ]
}